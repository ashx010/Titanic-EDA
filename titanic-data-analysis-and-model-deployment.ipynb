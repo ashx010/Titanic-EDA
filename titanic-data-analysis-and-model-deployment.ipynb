{
 "cells": [
  {
   "cell_type": "code",
   "execution_count": 1,
   "id": "15e1d96b",
   "metadata": {
    "execution": {
     "iopub.execute_input": "2022-10-17T18:03:01.677422Z",
     "iopub.status.busy": "2022-10-17T18:03:01.676905Z",
     "iopub.status.idle": "2022-10-17T18:03:03.117086Z",
     "shell.execute_reply": "2022-10-17T18:03:03.115760Z"
    },
    "papermill": {
     "duration": 1.46612,
     "end_time": "2022-10-17T18:03:03.120024",
     "exception": false,
     "start_time": "2022-10-17T18:03:01.653904",
     "status": "completed"
    },
    "tags": []
   },
   "outputs": [],
   "source": [
    "# libraries\n",
    "import pandas as pd\n",
    "import numpy as np\n",
    "import matplotlib.pyplot as plt\n",
    "import seaborn as sns\n",
    "from sklearn.metrics import accuracy_score\n",
    "from sklearn.metrics import classification_report"
   ]
  },
  {
   "cell_type": "code",
   "execution_count": 2,
   "id": "8661f12d",
   "metadata": {
    "execution": {
     "iopub.execute_input": "2022-10-17T18:03:03.158550Z",
     "iopub.status.busy": "2022-10-17T18:03:03.157813Z",
     "iopub.status.idle": "2022-10-17T18:03:03.179540Z",
     "shell.execute_reply": "2022-10-17T18:03:03.178118Z"
    },
    "papermill": {
     "duration": 0.044011,
     "end_time": "2022-10-17T18:03:03.182499",
     "exception": false,
     "start_time": "2022-10-17T18:03:03.138488",
     "status": "completed"
    },
    "tags": []
   },
   "outputs": [],
   "source": [
    "# Loading training data\n",
    "data = pd.read_csv('../input/titanic/train.csv')"
   ]
  },
  {
   "cell_type": "code",
   "execution_count": 3,
   "id": "d722d5d9",
   "metadata": {
    "execution": {
     "iopub.execute_input": "2022-10-17T18:03:03.219220Z",
     "iopub.status.busy": "2022-10-17T18:03:03.218787Z",
     "iopub.status.idle": "2022-10-17T18:03:03.247165Z",
     "shell.execute_reply": "2022-10-17T18:03:03.245972Z"
    },
    "papermill": {
     "duration": 0.049991,
     "end_time": "2022-10-17T18:03:03.250091",
     "exception": false,
     "start_time": "2022-10-17T18:03:03.200100",
     "status": "completed"
    },
    "tags": []
   },
   "outputs": [
    {
     "name": "stdout",
     "output_type": "stream",
     "text": [
      "<class 'pandas.core.frame.DataFrame'>\n",
      "RangeIndex: 891 entries, 0 to 890\n",
      "Data columns (total 12 columns):\n",
      " #   Column       Non-Null Count  Dtype  \n",
      "---  ------       --------------  -----  \n",
      " 0   PassengerId  891 non-null    int64  \n",
      " 1   Survived     891 non-null    int64  \n",
      " 2   Pclass       891 non-null    int64  \n",
      " 3   Name         891 non-null    object \n",
      " 4   Sex          891 non-null    object \n",
      " 5   Age          714 non-null    float64\n",
      " 6   SibSp        891 non-null    int64  \n",
      " 7   Parch        891 non-null    int64  \n",
      " 8   Ticket       891 non-null    object \n",
      " 9   Fare         891 non-null    float64\n",
      " 10  Cabin        204 non-null    object \n",
      " 11  Embarked     889 non-null    object \n",
      "dtypes: float64(2), int64(5), object(5)\n",
      "memory usage: 83.7+ KB\n"
     ]
    }
   ],
   "source": [
    "data.info()"
   ]
  },
  {
   "cell_type": "code",
   "execution_count": 4,
   "id": "51029d97",
   "metadata": {
    "execution": {
     "iopub.execute_input": "2022-10-17T18:03:03.288286Z",
     "iopub.status.busy": "2022-10-17T18:03:03.287773Z",
     "iopub.status.idle": "2022-10-17T18:03:03.331807Z",
     "shell.execute_reply": "2022-10-17T18:03:03.330591Z"
    },
    "papermill": {
     "duration": 0.065682,
     "end_time": "2022-10-17T18:03:03.334449",
     "exception": false,
     "start_time": "2022-10-17T18:03:03.268767",
     "status": "completed"
    },
    "tags": []
   },
   "outputs": [
    {
     "data": {
      "text/html": [
       "<div>\n",
       "<style scoped>\n",
       "    .dataframe tbody tr th:only-of-type {\n",
       "        vertical-align: middle;\n",
       "    }\n",
       "\n",
       "    .dataframe tbody tr th {\n",
       "        vertical-align: top;\n",
       "    }\n",
       "\n",
       "    .dataframe thead th {\n",
       "        text-align: right;\n",
       "    }\n",
       "</style>\n",
       "<table border=\"1\" class=\"dataframe\">\n",
       "  <thead>\n",
       "    <tr style=\"text-align: right;\">\n",
       "      <th></th>\n",
       "      <th>PassengerId</th>\n",
       "      <th>Survived</th>\n",
       "      <th>Pclass</th>\n",
       "      <th>Age</th>\n",
       "      <th>SibSp</th>\n",
       "      <th>Parch</th>\n",
       "      <th>Fare</th>\n",
       "    </tr>\n",
       "  </thead>\n",
       "  <tbody>\n",
       "    <tr>\n",
       "      <th>count</th>\n",
       "      <td>891.000000</td>\n",
       "      <td>891.000000</td>\n",
       "      <td>891.000000</td>\n",
       "      <td>714.000000</td>\n",
       "      <td>891.000000</td>\n",
       "      <td>891.000000</td>\n",
       "      <td>891.000000</td>\n",
       "    </tr>\n",
       "    <tr>\n",
       "      <th>mean</th>\n",
       "      <td>446.000000</td>\n",
       "      <td>0.383838</td>\n",
       "      <td>2.308642</td>\n",
       "      <td>29.699118</td>\n",
       "      <td>0.523008</td>\n",
       "      <td>0.381594</td>\n",
       "      <td>32.204208</td>\n",
       "    </tr>\n",
       "    <tr>\n",
       "      <th>std</th>\n",
       "      <td>257.353842</td>\n",
       "      <td>0.486592</td>\n",
       "      <td>0.836071</td>\n",
       "      <td>14.526497</td>\n",
       "      <td>1.102743</td>\n",
       "      <td>0.806057</td>\n",
       "      <td>49.693429</td>\n",
       "    </tr>\n",
       "    <tr>\n",
       "      <th>min</th>\n",
       "      <td>1.000000</td>\n",
       "      <td>0.000000</td>\n",
       "      <td>1.000000</td>\n",
       "      <td>0.420000</td>\n",
       "      <td>0.000000</td>\n",
       "      <td>0.000000</td>\n",
       "      <td>0.000000</td>\n",
       "    </tr>\n",
       "    <tr>\n",
       "      <th>25%</th>\n",
       "      <td>223.500000</td>\n",
       "      <td>0.000000</td>\n",
       "      <td>2.000000</td>\n",
       "      <td>20.125000</td>\n",
       "      <td>0.000000</td>\n",
       "      <td>0.000000</td>\n",
       "      <td>7.910400</td>\n",
       "    </tr>\n",
       "    <tr>\n",
       "      <th>50%</th>\n",
       "      <td>446.000000</td>\n",
       "      <td>0.000000</td>\n",
       "      <td>3.000000</td>\n",
       "      <td>28.000000</td>\n",
       "      <td>0.000000</td>\n",
       "      <td>0.000000</td>\n",
       "      <td>14.454200</td>\n",
       "    </tr>\n",
       "    <tr>\n",
       "      <th>75%</th>\n",
       "      <td>668.500000</td>\n",
       "      <td>1.000000</td>\n",
       "      <td>3.000000</td>\n",
       "      <td>38.000000</td>\n",
       "      <td>1.000000</td>\n",
       "      <td>0.000000</td>\n",
       "      <td>31.000000</td>\n",
       "    </tr>\n",
       "    <tr>\n",
       "      <th>max</th>\n",
       "      <td>891.000000</td>\n",
       "      <td>1.000000</td>\n",
       "      <td>3.000000</td>\n",
       "      <td>80.000000</td>\n",
       "      <td>8.000000</td>\n",
       "      <td>6.000000</td>\n",
       "      <td>512.329200</td>\n",
       "    </tr>\n",
       "  </tbody>\n",
       "</table>\n",
       "</div>"
      ],
      "text/plain": [
       "       PassengerId    Survived      Pclass         Age       SibSp  \\\n",
       "count   891.000000  891.000000  891.000000  714.000000  891.000000   \n",
       "mean    446.000000    0.383838    2.308642   29.699118    0.523008   \n",
       "std     257.353842    0.486592    0.836071   14.526497    1.102743   \n",
       "min       1.000000    0.000000    1.000000    0.420000    0.000000   \n",
       "25%     223.500000    0.000000    2.000000   20.125000    0.000000   \n",
       "50%     446.000000    0.000000    3.000000   28.000000    0.000000   \n",
       "75%     668.500000    1.000000    3.000000   38.000000    1.000000   \n",
       "max     891.000000    1.000000    3.000000   80.000000    8.000000   \n",
       "\n",
       "            Parch        Fare  \n",
       "count  891.000000  891.000000  \n",
       "mean     0.381594   32.204208  \n",
       "std      0.806057   49.693429  \n",
       "min      0.000000    0.000000  \n",
       "25%      0.000000    7.910400  \n",
       "50%      0.000000   14.454200  \n",
       "75%      0.000000   31.000000  \n",
       "max      6.000000  512.329200  "
      ]
     },
     "execution_count": 4,
     "metadata": {},
     "output_type": "execute_result"
    }
   ],
   "source": [
    "data.describe()"
   ]
  },
  {
   "cell_type": "code",
   "execution_count": 5,
   "id": "c45293aa",
   "metadata": {
    "execution": {
     "iopub.execute_input": "2022-10-17T18:03:03.371542Z",
     "iopub.status.busy": "2022-10-17T18:03:03.371103Z",
     "iopub.status.idle": "2022-10-17T18:03:03.390833Z",
     "shell.execute_reply": "2022-10-17T18:03:03.389546Z"
    },
    "papermill": {
     "duration": 0.041187,
     "end_time": "2022-10-17T18:03:03.393288",
     "exception": false,
     "start_time": "2022-10-17T18:03:03.352101",
     "status": "completed"
    },
    "tags": []
   },
   "outputs": [
    {
     "data": {
      "text/html": [
       "<div>\n",
       "<style scoped>\n",
       "    .dataframe tbody tr th:only-of-type {\n",
       "        vertical-align: middle;\n",
       "    }\n",
       "\n",
       "    .dataframe tbody tr th {\n",
       "        vertical-align: top;\n",
       "    }\n",
       "\n",
       "    .dataframe thead th {\n",
       "        text-align: right;\n",
       "    }\n",
       "</style>\n",
       "<table border=\"1\" class=\"dataframe\">\n",
       "  <thead>\n",
       "    <tr style=\"text-align: right;\">\n",
       "      <th></th>\n",
       "      <th>PassengerId</th>\n",
       "      <th>Survived</th>\n",
       "      <th>Pclass</th>\n",
       "      <th>Name</th>\n",
       "      <th>Sex</th>\n",
       "      <th>Age</th>\n",
       "      <th>SibSp</th>\n",
       "      <th>Parch</th>\n",
       "      <th>Ticket</th>\n",
       "      <th>Fare</th>\n",
       "      <th>Cabin</th>\n",
       "      <th>Embarked</th>\n",
       "    </tr>\n",
       "  </thead>\n",
       "  <tbody>\n",
       "    <tr>\n",
       "      <th>0</th>\n",
       "      <td>1</td>\n",
       "      <td>0</td>\n",
       "      <td>3</td>\n",
       "      <td>Braund, Mr. Owen Harris</td>\n",
       "      <td>male</td>\n",
       "      <td>22.0</td>\n",
       "      <td>1</td>\n",
       "      <td>0</td>\n",
       "      <td>A/5 21171</td>\n",
       "      <td>7.2500</td>\n",
       "      <td>NaN</td>\n",
       "      <td>S</td>\n",
       "    </tr>\n",
       "    <tr>\n",
       "      <th>1</th>\n",
       "      <td>2</td>\n",
       "      <td>1</td>\n",
       "      <td>1</td>\n",
       "      <td>Cumings, Mrs. John Bradley (Florence Briggs Th...</td>\n",
       "      <td>female</td>\n",
       "      <td>38.0</td>\n",
       "      <td>1</td>\n",
       "      <td>0</td>\n",
       "      <td>PC 17599</td>\n",
       "      <td>71.2833</td>\n",
       "      <td>C85</td>\n",
       "      <td>C</td>\n",
       "    </tr>\n",
       "    <tr>\n",
       "      <th>2</th>\n",
       "      <td>3</td>\n",
       "      <td>1</td>\n",
       "      <td>3</td>\n",
       "      <td>Heikkinen, Miss. Laina</td>\n",
       "      <td>female</td>\n",
       "      <td>26.0</td>\n",
       "      <td>0</td>\n",
       "      <td>0</td>\n",
       "      <td>STON/O2. 3101282</td>\n",
       "      <td>7.9250</td>\n",
       "      <td>NaN</td>\n",
       "      <td>S</td>\n",
       "    </tr>\n",
       "    <tr>\n",
       "      <th>3</th>\n",
       "      <td>4</td>\n",
       "      <td>1</td>\n",
       "      <td>1</td>\n",
       "      <td>Futrelle, Mrs. Jacques Heath (Lily May Peel)</td>\n",
       "      <td>female</td>\n",
       "      <td>35.0</td>\n",
       "      <td>1</td>\n",
       "      <td>0</td>\n",
       "      <td>113803</td>\n",
       "      <td>53.1000</td>\n",
       "      <td>C123</td>\n",
       "      <td>S</td>\n",
       "    </tr>\n",
       "    <tr>\n",
       "      <th>4</th>\n",
       "      <td>5</td>\n",
       "      <td>0</td>\n",
       "      <td>3</td>\n",
       "      <td>Allen, Mr. William Henry</td>\n",
       "      <td>male</td>\n",
       "      <td>35.0</td>\n",
       "      <td>0</td>\n",
       "      <td>0</td>\n",
       "      <td>373450</td>\n",
       "      <td>8.0500</td>\n",
       "      <td>NaN</td>\n",
       "      <td>S</td>\n",
       "    </tr>\n",
       "    <tr>\n",
       "      <th>5</th>\n",
       "      <td>6</td>\n",
       "      <td>0</td>\n",
       "      <td>3</td>\n",
       "      <td>Moran, Mr. James</td>\n",
       "      <td>male</td>\n",
       "      <td>NaN</td>\n",
       "      <td>0</td>\n",
       "      <td>0</td>\n",
       "      <td>330877</td>\n",
       "      <td>8.4583</td>\n",
       "      <td>NaN</td>\n",
       "      <td>Q</td>\n",
       "    </tr>\n",
       "    <tr>\n",
       "      <th>6</th>\n",
       "      <td>7</td>\n",
       "      <td>0</td>\n",
       "      <td>1</td>\n",
       "      <td>McCarthy, Mr. Timothy J</td>\n",
       "      <td>male</td>\n",
       "      <td>54.0</td>\n",
       "      <td>0</td>\n",
       "      <td>0</td>\n",
       "      <td>17463</td>\n",
       "      <td>51.8625</td>\n",
       "      <td>E46</td>\n",
       "      <td>S</td>\n",
       "    </tr>\n",
       "    <tr>\n",
       "      <th>7</th>\n",
       "      <td>8</td>\n",
       "      <td>0</td>\n",
       "      <td>3</td>\n",
       "      <td>Palsson, Master. Gosta Leonard</td>\n",
       "      <td>male</td>\n",
       "      <td>2.0</td>\n",
       "      <td>3</td>\n",
       "      <td>1</td>\n",
       "      <td>349909</td>\n",
       "      <td>21.0750</td>\n",
       "      <td>NaN</td>\n",
       "      <td>S</td>\n",
       "    </tr>\n",
       "    <tr>\n",
       "      <th>8</th>\n",
       "      <td>9</td>\n",
       "      <td>1</td>\n",
       "      <td>3</td>\n",
       "      <td>Johnson, Mrs. Oscar W (Elisabeth Vilhelmina Berg)</td>\n",
       "      <td>female</td>\n",
       "      <td>27.0</td>\n",
       "      <td>0</td>\n",
       "      <td>2</td>\n",
       "      <td>347742</td>\n",
       "      <td>11.1333</td>\n",
       "      <td>NaN</td>\n",
       "      <td>S</td>\n",
       "    </tr>\n",
       "    <tr>\n",
       "      <th>9</th>\n",
       "      <td>10</td>\n",
       "      <td>1</td>\n",
       "      <td>2</td>\n",
       "      <td>Nasser, Mrs. Nicholas (Adele Achem)</td>\n",
       "      <td>female</td>\n",
       "      <td>14.0</td>\n",
       "      <td>1</td>\n",
       "      <td>0</td>\n",
       "      <td>237736</td>\n",
       "      <td>30.0708</td>\n",
       "      <td>NaN</td>\n",
       "      <td>C</td>\n",
       "    </tr>\n",
       "  </tbody>\n",
       "</table>\n",
       "</div>"
      ],
      "text/plain": [
       "   PassengerId  Survived  Pclass  \\\n",
       "0            1         0       3   \n",
       "1            2         1       1   \n",
       "2            3         1       3   \n",
       "3            4         1       1   \n",
       "4            5         0       3   \n",
       "5            6         0       3   \n",
       "6            7         0       1   \n",
       "7            8         0       3   \n",
       "8            9         1       3   \n",
       "9           10         1       2   \n",
       "\n",
       "                                                Name     Sex   Age  SibSp  \\\n",
       "0                            Braund, Mr. Owen Harris    male  22.0      1   \n",
       "1  Cumings, Mrs. John Bradley (Florence Briggs Th...  female  38.0      1   \n",
       "2                             Heikkinen, Miss. Laina  female  26.0      0   \n",
       "3       Futrelle, Mrs. Jacques Heath (Lily May Peel)  female  35.0      1   \n",
       "4                           Allen, Mr. William Henry    male  35.0      0   \n",
       "5                                   Moran, Mr. James    male   NaN      0   \n",
       "6                            McCarthy, Mr. Timothy J    male  54.0      0   \n",
       "7                     Palsson, Master. Gosta Leonard    male   2.0      3   \n",
       "8  Johnson, Mrs. Oscar W (Elisabeth Vilhelmina Berg)  female  27.0      0   \n",
       "9                Nasser, Mrs. Nicholas (Adele Achem)  female  14.0      1   \n",
       "\n",
       "   Parch            Ticket     Fare Cabin Embarked  \n",
       "0      0         A/5 21171   7.2500   NaN        S  \n",
       "1      0          PC 17599  71.2833   C85        C  \n",
       "2      0  STON/O2. 3101282   7.9250   NaN        S  \n",
       "3      0            113803  53.1000  C123        S  \n",
       "4      0            373450   8.0500   NaN        S  \n",
       "5      0            330877   8.4583   NaN        Q  \n",
       "6      0             17463  51.8625   E46        S  \n",
       "7      1            349909  21.0750   NaN        S  \n",
       "8      2            347742  11.1333   NaN        S  \n",
       "9      0            237736  30.0708   NaN        C  "
      ]
     },
     "execution_count": 5,
     "metadata": {},
     "output_type": "execute_result"
    }
   ],
   "source": [
    "data.head(10)"
   ]
  },
  {
   "cell_type": "code",
   "execution_count": 6,
   "id": "6ab4cc87",
   "metadata": {
    "execution": {
     "iopub.execute_input": "2022-10-17T18:03:03.431628Z",
     "iopub.status.busy": "2022-10-17T18:03:03.431183Z",
     "iopub.status.idle": "2022-10-17T18:03:03.438453Z",
     "shell.execute_reply": "2022-10-17T18:03:03.437184Z"
    },
    "papermill": {
     "duration": 0.029257,
     "end_time": "2022-10-17T18:03:03.441042",
     "exception": false,
     "start_time": "2022-10-17T18:03:03.411785",
     "status": "completed"
    },
    "tags": []
   },
   "outputs": [],
   "source": [
    "# dropping Unnecessary Features\n",
    "data.drop(['Ticket', 'Cabin', 'PassengerId'], axis=1, inplace=True)"
   ]
  },
  {
   "cell_type": "code",
   "execution_count": 7,
   "id": "aee587ad",
   "metadata": {
    "execution": {
     "iopub.execute_input": "2022-10-17T18:03:03.481230Z",
     "iopub.status.busy": "2022-10-17T18:03:03.479968Z",
     "iopub.status.idle": "2022-10-17T18:03:03.494029Z",
     "shell.execute_reply": "2022-10-17T18:03:03.492858Z"
    },
    "papermill": {
     "duration": 0.036273,
     "end_time": "2022-10-17T18:03:03.496420",
     "exception": false,
     "start_time": "2022-10-17T18:03:03.460147",
     "status": "completed"
    },
    "tags": []
   },
   "outputs": [
    {
     "data": {
      "text/plain": [
       "Survived      2\n",
       "Pclass        3\n",
       "Name        891\n",
       "Sex           2\n",
       "Age          88\n",
       "SibSp         7\n",
       "Parch         7\n",
       "Fare        248\n",
       "Embarked      3\n",
       "dtype: int64"
      ]
     },
     "execution_count": 7,
     "metadata": {},
     "output_type": "execute_result"
    }
   ],
   "source": [
    "# Unique Data \n",
    "data.nunique()"
   ]
  },
  {
   "cell_type": "code",
   "execution_count": 8,
   "id": "8ce0634e",
   "metadata": {
    "execution": {
     "iopub.execute_input": "2022-10-17T18:03:03.534612Z",
     "iopub.status.busy": "2022-10-17T18:03:03.534123Z",
     "iopub.status.idle": "2022-10-17T18:03:03.543418Z",
     "shell.execute_reply": "2022-10-17T18:03:03.542563Z"
    },
    "papermill": {
     "duration": 0.031238,
     "end_time": "2022-10-17T18:03:03.545649",
     "exception": false,
     "start_time": "2022-10-17T18:03:03.514411",
     "status": "completed"
    },
    "tags": []
   },
   "outputs": [
    {
     "data": {
      "text/plain": [
       "Survived      0\n",
       "Pclass        0\n",
       "Name          0\n",
       "Sex           0\n",
       "Age         177\n",
       "SibSp         0\n",
       "Parch         0\n",
       "Fare          0\n",
       "Embarked      2\n",
       "dtype: int64"
      ]
     },
     "execution_count": 8,
     "metadata": {},
     "output_type": "execute_result"
    }
   ],
   "source": [
    "# Null Data\n",
    "data.isnull().sum()"
   ]
  },
  {
   "cell_type": "markdown",
   "id": "23b5f3d4",
   "metadata": {
    "papermill": {
     "duration": 0.017787,
     "end_time": "2022-10-17T18:03:03.581876",
     "exception": false,
     "start_time": "2022-10-17T18:03:03.564089",
     "status": "completed"
    },
    "tags": []
   },
   "source": [
    "**Name**"
   ]
  },
  {
   "cell_type": "code",
   "execution_count": 9,
   "id": "bff955ca",
   "metadata": {
    "execution": {
     "iopub.execute_input": "2022-10-17T18:03:03.620351Z",
     "iopub.status.busy": "2022-10-17T18:03:03.619935Z",
     "iopub.status.idle": "2022-10-17T18:03:03.631023Z",
     "shell.execute_reply": "2022-10-17T18:03:03.629980Z"
    },
    "papermill": {
     "duration": 0.032796,
     "end_time": "2022-10-17T18:03:03.633171",
     "exception": false,
     "start_time": "2022-10-17T18:03:03.600375",
     "status": "completed"
    },
    "tags": []
   },
   "outputs": [],
   "source": [
    "# Taking Initials from Name and Implement a new Feature\n",
    "data['Initials'] = 0\n",
    "data['Initials'] = data['Name'].str.extract('([A-Za-z]+)\\.')"
   ]
  },
  {
   "cell_type": "code",
   "execution_count": 10,
   "id": "43d47e39",
   "metadata": {
    "execution": {
     "iopub.execute_input": "2022-10-17T18:03:03.673971Z",
     "iopub.status.busy": "2022-10-17T18:03:03.673292Z",
     "iopub.status.idle": "2022-10-17T18:03:03.737307Z",
     "shell.execute_reply": "2022-10-17T18:03:03.735908Z"
    },
    "papermill": {
     "duration": 0.089205,
     "end_time": "2022-10-17T18:03:03.740800",
     "exception": false,
     "start_time": "2022-10-17T18:03:03.651595",
     "status": "completed"
    },
    "tags": []
   },
   "outputs": [
    {
     "data": {
      "text/html": [
       "<div>\n",
       "<style scoped>\n",
       "    .dataframe tbody tr th:only-of-type {\n",
       "        vertical-align: middle;\n",
       "    }\n",
       "\n",
       "    .dataframe tbody tr th {\n",
       "        vertical-align: top;\n",
       "    }\n",
       "\n",
       "    .dataframe thead th {\n",
       "        text-align: right;\n",
       "    }\n",
       "</style>\n",
       "<table border=\"1\" class=\"dataframe\">\n",
       "  <thead>\n",
       "    <tr style=\"text-align: right;\">\n",
       "      <th>Initials</th>\n",
       "      <th>Capt</th>\n",
       "      <th>Col</th>\n",
       "      <th>Countess</th>\n",
       "      <th>Don</th>\n",
       "      <th>Dr</th>\n",
       "      <th>Jonkheer</th>\n",
       "      <th>Lady</th>\n",
       "      <th>Major</th>\n",
       "      <th>Master</th>\n",
       "      <th>Miss</th>\n",
       "      <th>Mlle</th>\n",
       "      <th>Mme</th>\n",
       "      <th>Mr</th>\n",
       "      <th>Mrs</th>\n",
       "      <th>Ms</th>\n",
       "      <th>Rev</th>\n",
       "      <th>Sir</th>\n",
       "      <th>All</th>\n",
       "    </tr>\n",
       "    <tr>\n",
       "      <th>Survived</th>\n",
       "      <th></th>\n",
       "      <th></th>\n",
       "      <th></th>\n",
       "      <th></th>\n",
       "      <th></th>\n",
       "      <th></th>\n",
       "      <th></th>\n",
       "      <th></th>\n",
       "      <th></th>\n",
       "      <th></th>\n",
       "      <th></th>\n",
       "      <th></th>\n",
       "      <th></th>\n",
       "      <th></th>\n",
       "      <th></th>\n",
       "      <th></th>\n",
       "      <th></th>\n",
       "      <th></th>\n",
       "    </tr>\n",
       "  </thead>\n",
       "  <tbody>\n",
       "    <tr>\n",
       "      <th>0</th>\n",
       "      <td>1</td>\n",
       "      <td>1</td>\n",
       "      <td>0</td>\n",
       "      <td>1</td>\n",
       "      <td>4</td>\n",
       "      <td>1</td>\n",
       "      <td>0</td>\n",
       "      <td>1</td>\n",
       "      <td>17</td>\n",
       "      <td>55</td>\n",
       "      <td>0</td>\n",
       "      <td>0</td>\n",
       "      <td>436</td>\n",
       "      <td>26</td>\n",
       "      <td>0</td>\n",
       "      <td>6</td>\n",
       "      <td>0</td>\n",
       "      <td>549</td>\n",
       "    </tr>\n",
       "    <tr>\n",
       "      <th>1</th>\n",
       "      <td>0</td>\n",
       "      <td>1</td>\n",
       "      <td>1</td>\n",
       "      <td>0</td>\n",
       "      <td>3</td>\n",
       "      <td>0</td>\n",
       "      <td>1</td>\n",
       "      <td>1</td>\n",
       "      <td>23</td>\n",
       "      <td>127</td>\n",
       "      <td>2</td>\n",
       "      <td>1</td>\n",
       "      <td>81</td>\n",
       "      <td>99</td>\n",
       "      <td>1</td>\n",
       "      <td>0</td>\n",
       "      <td>1</td>\n",
       "      <td>342</td>\n",
       "    </tr>\n",
       "    <tr>\n",
       "      <th>All</th>\n",
       "      <td>1</td>\n",
       "      <td>2</td>\n",
       "      <td>1</td>\n",
       "      <td>1</td>\n",
       "      <td>7</td>\n",
       "      <td>1</td>\n",
       "      <td>1</td>\n",
       "      <td>2</td>\n",
       "      <td>40</td>\n",
       "      <td>182</td>\n",
       "      <td>2</td>\n",
       "      <td>1</td>\n",
       "      <td>517</td>\n",
       "      <td>125</td>\n",
       "      <td>1</td>\n",
       "      <td>6</td>\n",
       "      <td>1</td>\n",
       "      <td>891</td>\n",
       "    </tr>\n",
       "  </tbody>\n",
       "</table>\n",
       "</div>"
      ],
      "text/plain": [
       "Initials  Capt  Col  Countess  Don  Dr  Jonkheer  Lady  Major  Master  Miss  \\\n",
       "Survived                                                                      \n",
       "0            1    1         0    1   4         1     0      1      17    55   \n",
       "1            0    1         1    0   3         0     1      1      23   127   \n",
       "All          1    2         1    1   7         1     1      2      40   182   \n",
       "\n",
       "Initials  Mlle  Mme   Mr  Mrs  Ms  Rev  Sir  All  \n",
       "Survived                                          \n",
       "0            0    0  436   26   0    6    0  549  \n",
       "1            2    1   81   99   1    0    1  342  \n",
       "All          2    1  517  125   1    6    1  891  "
      ]
     },
     "execution_count": 10,
     "metadata": {},
     "output_type": "execute_result"
    }
   ],
   "source": [
    "pd.crosstab(data.Survived, data.Initials, margins = True)"
   ]
  },
  {
   "cell_type": "code",
   "execution_count": 11,
   "id": "7096c931",
   "metadata": {
    "execution": {
     "iopub.execute_input": "2022-10-17T18:03:03.782833Z",
     "iopub.status.busy": "2022-10-17T18:03:03.781502Z",
     "iopub.status.idle": "2022-10-17T18:03:03.791177Z",
     "shell.execute_reply": "2022-10-17T18:03:03.790159Z"
    },
    "papermill": {
     "duration": 0.032765,
     "end_time": "2022-10-17T18:03:03.793629",
     "exception": false,
     "start_time": "2022-10-17T18:03:03.760864",
     "status": "completed"
    },
    "tags": []
   },
   "outputs": [],
   "source": [
    "data['Initials'].replace(['Mlle','Mme','Ms','Dr','Major','Lady','Countess','Jonkheer','Col','Rev','Capt','Sir','Don'],['Miss','Miss','Miss','Mr','Mr','Mrs','Mrs','Other','Other','Other','Mr','Mr','Mr'],inplace=True)"
   ]
  },
  {
   "cell_type": "code",
   "execution_count": 12,
   "id": "7668e87c",
   "metadata": {
    "execution": {
     "iopub.execute_input": "2022-10-17T18:03:03.834523Z",
     "iopub.status.busy": "2022-10-17T18:03:03.833789Z",
     "iopub.status.idle": "2022-10-17T18:03:03.877026Z",
     "shell.execute_reply": "2022-10-17T18:03:03.875780Z"
    },
    "papermill": {
     "duration": 0.066268,
     "end_time": "2022-10-17T18:03:03.879580",
     "exception": false,
     "start_time": "2022-10-17T18:03:03.813312",
     "status": "completed"
    },
    "tags": []
   },
   "outputs": [
    {
     "data": {
      "text/html": [
       "<div>\n",
       "<style scoped>\n",
       "    .dataframe tbody tr th:only-of-type {\n",
       "        vertical-align: middle;\n",
       "    }\n",
       "\n",
       "    .dataframe tbody tr th {\n",
       "        vertical-align: top;\n",
       "    }\n",
       "\n",
       "    .dataframe thead th {\n",
       "        text-align: right;\n",
       "    }\n",
       "</style>\n",
       "<table border=\"1\" class=\"dataframe\">\n",
       "  <thead>\n",
       "    <tr style=\"text-align: right;\">\n",
       "      <th>Survived</th>\n",
       "      <th>0</th>\n",
       "      <th>1</th>\n",
       "      <th>All</th>\n",
       "    </tr>\n",
       "    <tr>\n",
       "      <th>Initials</th>\n",
       "      <th></th>\n",
       "      <th></th>\n",
       "      <th></th>\n",
       "    </tr>\n",
       "  </thead>\n",
       "  <tbody>\n",
       "    <tr>\n",
       "      <th>Master</th>\n",
       "      <td>17</td>\n",
       "      <td>23</td>\n",
       "      <td>40</td>\n",
       "    </tr>\n",
       "    <tr>\n",
       "      <th>Miss</th>\n",
       "      <td>55</td>\n",
       "      <td>131</td>\n",
       "      <td>186</td>\n",
       "    </tr>\n",
       "    <tr>\n",
       "      <th>Mr</th>\n",
       "      <td>443</td>\n",
       "      <td>86</td>\n",
       "      <td>529</td>\n",
       "    </tr>\n",
       "    <tr>\n",
       "      <th>Mrs</th>\n",
       "      <td>26</td>\n",
       "      <td>101</td>\n",
       "      <td>127</td>\n",
       "    </tr>\n",
       "    <tr>\n",
       "      <th>Other</th>\n",
       "      <td>8</td>\n",
       "      <td>1</td>\n",
       "      <td>9</td>\n",
       "    </tr>\n",
       "    <tr>\n",
       "      <th>All</th>\n",
       "      <td>549</td>\n",
       "      <td>342</td>\n",
       "      <td>891</td>\n",
       "    </tr>\n",
       "  </tbody>\n",
       "</table>\n",
       "</div>"
      ],
      "text/plain": [
       "Survived    0    1  All\n",
       "Initials               \n",
       "Master     17   23   40\n",
       "Miss       55  131  186\n",
       "Mr        443   86  529\n",
       "Mrs        26  101  127\n",
       "Other       8    1    9\n",
       "All       549  342  891"
      ]
     },
     "execution_count": 12,
     "metadata": {},
     "output_type": "execute_result"
    }
   ],
   "source": [
    "pd.crosstab(data.Initials, data.Survived, margins = True)"
   ]
  },
  {
   "cell_type": "code",
   "execution_count": 13,
   "id": "ea5a938a",
   "metadata": {
    "execution": {
     "iopub.execute_input": "2022-10-17T18:03:03.918903Z",
     "iopub.status.busy": "2022-10-17T18:03:03.918490Z",
     "iopub.status.idle": "2022-10-17T18:03:04.228313Z",
     "shell.execute_reply": "2022-10-17T18:03:04.227119Z"
    },
    "papermill": {
     "duration": 0.332645,
     "end_time": "2022-10-17T18:03:04.230974",
     "exception": false,
     "start_time": "2022-10-17T18:03:03.898329",
     "status": "completed"
    },
    "tags": []
   },
   "outputs": [
    {
     "data": {
      "text/plain": [
       "<AxesSubplot:xlabel='Initials', ylabel='count'>"
      ]
     },
     "execution_count": 13,
     "metadata": {},
     "output_type": "execute_result"
    },
    {
     "data": {
      "image/png": "[encoded data removed]",
      "text/plain": [
       "<Figure size 432x288 with 1 Axes>"
      ]
     },
     "metadata": {
      "needs_background": "light"
     },
     "output_type": "display_data"
    }
   ],
   "source": [
    "sns.countplot(x='Initials', hue='Survived', data=data)"
   ]
  },
  {
   "cell_type": "markdown",
   "id": "1372ecca",
   "metadata": {
    "papermill": {
     "duration": 0.019445,
     "end_time": "2022-10-17T18:03:04.269522",
     "exception": false,
     "start_time": "2022-10-17T18:03:04.250077",
     "status": "completed"
    },
    "tags": []
   },
   "source": [
    "**Age**"
   ]
  },
  {
   "cell_type": "code",
   "execution_count": 14,
   "id": "93a1c19c",
   "metadata": {
    "execution": {
     "iopub.execute_input": "2022-10-17T18:03:04.310615Z",
     "iopub.status.busy": "2022-10-17T18:03:04.309739Z",
     "iopub.status.idle": "2022-10-17T18:03:04.323582Z",
     "shell.execute_reply": "2022-10-17T18:03:04.322503Z"
    },
    "papermill": {
     "duration": 0.037211,
     "end_time": "2022-10-17T18:03:04.326021",
     "exception": false,
     "start_time": "2022-10-17T18:03:04.288810",
     "status": "completed"
    },
    "tags": []
   },
   "outputs": [
    {
     "data": {
      "text/plain": [
       "count    714.000000\n",
       "mean      29.699118\n",
       "std       14.526497\n",
       "min        0.420000\n",
       "25%       20.125000\n",
       "50%       28.000000\n",
       "75%       38.000000\n",
       "max       80.000000\n",
       "Name: Age, dtype: float64"
      ]
     },
     "execution_count": 14,
     "metadata": {},
     "output_type": "execute_result"
    }
   ],
   "source": [
    "# filling age\n",
    "data['Age'].describe()"
   ]
  },
  {
   "cell_type": "code",
   "execution_count": 15,
   "id": "1110f547",
   "metadata": {
    "execution": {
     "iopub.execute_input": "2022-10-17T18:03:04.366546Z",
     "iopub.status.busy": "2022-10-17T18:03:04.365830Z",
     "iopub.status.idle": "2022-10-17T18:03:04.376772Z",
     "shell.execute_reply": "2022-10-17T18:03:04.375504Z"
    },
    "papermill": {
     "duration": 0.034174,
     "end_time": "2022-10-17T18:03:04.379360",
     "exception": false,
     "start_time": "2022-10-17T18:03:04.345186",
     "status": "completed"
    },
    "tags": []
   },
   "outputs": [
    {
     "data": {
      "text/plain": [
       "Initials\n",
       "Master     4.574167\n",
       "Miss      21.860000\n",
       "Mr        32.739609\n",
       "Mrs       35.981818\n",
       "Other     45.888889\n",
       "Name: Age, dtype: float64"
      ]
     },
     "execution_count": 15,
     "metadata": {},
     "output_type": "execute_result"
    }
   ],
   "source": [
    "# Getting Age mean wrt Initials data\n",
    "data.groupby('Initials')['Age'].mean()"
   ]
  },
  {
   "cell_type": "code",
   "execution_count": 16,
   "id": "230f5c80",
   "metadata": {
    "execution": {
     "iopub.execute_input": "2022-10-17T18:03:04.420693Z",
     "iopub.status.busy": "2022-10-17T18:03:04.420043Z",
     "iopub.status.idle": "2022-10-17T18:03:04.433514Z",
     "shell.execute_reply": "2022-10-17T18:03:04.432318Z"
    },
    "papermill": {
     "duration": 0.037137,
     "end_time": "2022-10-17T18:03:04.436417",
     "exception": false,
     "start_time": "2022-10-17T18:03:04.399280",
     "status": "completed"
    },
    "tags": []
   },
   "outputs": [],
   "source": [
    "# Filling Null Value from Age mean wrt Initials\n",
    "data.loc[(data.Age.isnull()) & (data['Initials'] == 'Master'), 'Age'] = 5\n",
    "data.loc[(data.Age.isnull()) & (data['Initials'] == 'Miss'), 'Age'] = 22\n",
    "data.loc[(data.Age.isnull()) & (data['Initials'] == 'Mr'), 'Age'] = 33\n",
    "data.loc[(data.Age.isnull()) & (data['Initials'] == 'Mrs'), 'Age'] = 36\n",
    "data.loc[(data.Age.isnull()) & (data['Initials'] == 'Other'), 'Age'] = 46"
   ]
  },
  {
   "cell_type": "code",
   "execution_count": 17,
   "id": "050a0633",
   "metadata": {
    "execution": {
     "iopub.execute_input": "2022-10-17T18:03:04.477725Z",
     "iopub.status.busy": "2022-10-17T18:03:04.477336Z",
     "iopub.status.idle": "2022-10-17T18:03:05.089270Z",
     "shell.execute_reply": "2022-10-17T18:03:05.088066Z"
    },
    "papermill": {
     "duration": 0.636672,
     "end_time": "2022-10-17T18:03:05.092211",
     "exception": false,
     "start_time": "2022-10-17T18:03:04.455539",
     "status": "completed"
    },
    "tags": []
   },
   "outputs": [
    {
     "data": {
      "text/plain": [
       "<AxesSubplot:xlabel='Age', ylabel='Count'>"
      ]
     },
     "execution_count": 17,
     "metadata": {},
     "output_type": "execute_result"
    },
    {
     "data": {
      "image/png": "[encoded data removed]",
      "text/plain": [
       "<Figure size 720x360 with 2 Axes>"
      ]
     },
     "metadata": {
      "needs_background": "light"
     },
     "output_type": "display_data"
    }
   ],
   "source": [
    "f,ax = plt.subplots(1,2,figsize=(10,5))\n",
    "sns.histplot(x = 'Age', data=data, ax=ax[0])\n",
    "sns.histplot(x = 'Age', hue='Survived', data=data, ax=ax[1])"
   ]
  },
  {
   "cell_type": "markdown",
   "id": "225e6af4",
   "metadata": {
    "papermill": {
     "duration": 0.019175,
     "end_time": "2022-10-17T18:03:05.131442",
     "exception": false,
     "start_time": "2022-10-17T18:03:05.112267",
     "status": "completed"
    },
    "tags": []
   },
   "source": [
    "* Survival rate for Childrens, Teenagers and Elders are more than normal Adults.\n",
    "* People Onboard are usually from age group 30 to 40 and have low survival rate."
   ]
  },
  {
   "cell_type": "markdown",
   "id": "d096e05e",
   "metadata": {
    "papermill": {
     "duration": 0.02043,
     "end_time": "2022-10-17T18:03:05.171495",
     "exception": false,
     "start_time": "2022-10-17T18:03:05.151065",
     "status": "completed"
    },
    "tags": []
   },
   "source": [
    "**Pclass**"
   ]
  },
  {
   "cell_type": "code",
   "execution_count": 18,
   "id": "551363c5",
   "metadata": {
    "execution": {
     "iopub.execute_input": "2022-10-17T18:03:05.213323Z",
     "iopub.status.busy": "2022-10-17T18:03:05.212866Z",
     "iopub.status.idle": "2022-10-17T18:03:05.646047Z",
     "shell.execute_reply": "2022-10-17T18:03:05.644835Z"
    },
    "papermill": {
     "duration": 0.457525,
     "end_time": "2022-10-17T18:03:05.648738",
     "exception": false,
     "start_time": "2022-10-17T18:03:05.191213",
     "status": "completed"
    },
    "tags": []
   },
   "outputs": [
    {
     "data": {
      "image/png": "[encoded data removed]",
      "text/plain": [
       "<Figure size 720x360 with 2 Axes>"
      ]
     },
     "metadata": {
      "needs_background": "light"
     },
     "output_type": "display_data"
    }
   ],
   "source": [
    "# Pclass\n",
    "f,ax = plt.subplots(1,2,figsize=(10,5))\n",
    "sns.countplot(x = 'Pclass', hue='Survived', data=data, ax=ax[0])\n",
    "sns.violinplot(y = 'Age', x = 'Pclass', hue='Survived', data=data, split=True, ax=ax[1])\n",
    "plt.show()"
   ]
  },
  {
   "cell_type": "code",
   "execution_count": 19,
   "id": "1582276d",
   "metadata": {
    "execution": {
     "iopub.execute_input": "2022-10-17T18:03:05.691886Z",
     "iopub.status.busy": "2022-10-17T18:03:05.690642Z",
     "iopub.status.idle": "2022-10-17T18:03:05.731860Z",
     "shell.execute_reply": "2022-10-17T18:03:05.730718Z"
    },
    "papermill": {
     "duration": 0.065733,
     "end_time": "2022-10-17T18:03:05.734540",
     "exception": false,
     "start_time": "2022-10-17T18:03:05.668807",
     "status": "completed"
    },
    "tags": []
   },
   "outputs": [
    {
     "data": {
      "text/html": [
       "<div>\n",
       "<style scoped>\n",
       "    .dataframe tbody tr th:only-of-type {\n",
       "        vertical-align: middle;\n",
       "    }\n",
       "\n",
       "    .dataframe tbody tr th {\n",
       "        vertical-align: top;\n",
       "    }\n",
       "\n",
       "    .dataframe thead th {\n",
       "        text-align: right;\n",
       "    }\n",
       "</style>\n",
       "<table border=\"1\" class=\"dataframe\">\n",
       "  <thead>\n",
       "    <tr style=\"text-align: right;\">\n",
       "      <th>Survived</th>\n",
       "      <th>0</th>\n",
       "      <th>1</th>\n",
       "      <th>All</th>\n",
       "    </tr>\n",
       "    <tr>\n",
       "      <th>Pclass</th>\n",
       "      <th></th>\n",
       "      <th></th>\n",
       "      <th></th>\n",
       "    </tr>\n",
       "  </thead>\n",
       "  <tbody>\n",
       "    <tr>\n",
       "      <th>1</th>\n",
       "      <td>80</td>\n",
       "      <td>136</td>\n",
       "      <td>216</td>\n",
       "    </tr>\n",
       "    <tr>\n",
       "      <th>2</th>\n",
       "      <td>97</td>\n",
       "      <td>87</td>\n",
       "      <td>184</td>\n",
       "    </tr>\n",
       "    <tr>\n",
       "      <th>3</th>\n",
       "      <td>372</td>\n",
       "      <td>119</td>\n",
       "      <td>491</td>\n",
       "    </tr>\n",
       "    <tr>\n",
       "      <th>All</th>\n",
       "      <td>549</td>\n",
       "      <td>342</td>\n",
       "      <td>891</td>\n",
       "    </tr>\n",
       "  </tbody>\n",
       "</table>\n",
       "</div>"
      ],
      "text/plain": [
       "Survived    0    1  All\n",
       "Pclass                 \n",
       "1          80  136  216\n",
       "2          97   87  184\n",
       "3         372  119  491\n",
       "All       549  342  891"
      ]
     },
     "execution_count": 19,
     "metadata": {},
     "output_type": "execute_result"
    }
   ],
   "source": [
    "pd.crosstab(data.Pclass, data.Survived, margins=True)"
   ]
  },
  {
   "cell_type": "markdown",
   "id": "a38097c9",
   "metadata": {
    "papermill": {
     "duration": 0.02013,
     "end_time": "2022-10-17T18:03:05.775501",
     "exception": false,
     "start_time": "2022-10-17T18:03:05.755371",
     "status": "completed"
    },
    "tags": []
   },
   "source": [
    "* Survival rate of PClass 1 is 62% which is much better than any class.\n",
    "* Irrespective of Pclass, Childrens and Tennagers have high survival rate"
   ]
  },
  {
   "cell_type": "code",
   "execution_count": 20,
   "id": "539edc0d",
   "metadata": {
    "execution": {
     "iopub.execute_input": "2022-10-17T18:03:05.819754Z",
     "iopub.status.busy": "2022-10-17T18:03:05.819308Z",
     "iopub.status.idle": "2022-10-17T18:03:07.001058Z",
     "shell.execute_reply": "2022-10-17T18:03:06.999856Z"
    },
    "papermill": {
     "duration": 1.206718,
     "end_time": "2022-10-17T18:03:07.003762",
     "exception": false,
     "start_time": "2022-10-17T18:03:05.797044",
     "status": "completed"
    },
    "tags": []
   },
   "outputs": [
    {
     "data": {
      "text/plain": [
       "<seaborn.axisgrid.FacetGrid at 0x7f024974a290>"
      ]
     },
     "execution_count": 20,
     "metadata": {},
     "output_type": "execute_result"
    },
    {
     "data": {
      "image/png": "[encoded data removed]",
      "text/plain": [
       "<Figure size 1800x360 with 5 Axes>"
      ]
     },
     "metadata": {
      "needs_background": "light"
     },
     "output_type": "display_data"
    }
   ],
   "source": [
    "sns.catplot(x='Pclass', y='Survived', col='Initials', data=data, kind='point')"
   ]
  },
  {
   "cell_type": "markdown",
   "id": "84cba001",
   "metadata": {
    "papermill": {
     "duration": 0.020912,
     "end_time": "2022-10-17T18:03:07.045777",
     "exception": false,
     "start_time": "2022-10-17T18:03:07.024865",
     "status": "completed"
    },
    "tags": []
   },
   "source": [
    "* Survival rate for Initials with Mrs, Miss, and Master are much higher than Mr."
   ]
  },
  {
   "cell_type": "markdown",
   "id": "85cab178",
   "metadata": {
    "papermill": {
     "duration": 0.020663,
     "end_time": "2022-10-17T18:03:07.087507",
     "exception": false,
     "start_time": "2022-10-17T18:03:07.066844",
     "status": "completed"
    },
    "tags": []
   },
   "source": [
    "**Sex**"
   ]
  },
  {
   "cell_type": "code",
   "execution_count": 21,
   "id": "07f9df5f",
   "metadata": {
    "execution": {
     "iopub.execute_input": "2022-10-17T18:03:07.131738Z",
     "iopub.status.busy": "2022-10-17T18:03:07.131067Z",
     "iopub.status.idle": "2022-10-17T18:03:07.883657Z",
     "shell.execute_reply": "2022-10-17T18:03:07.882783Z"
    },
    "papermill": {
     "duration": 0.777662,
     "end_time": "2022-10-17T18:03:07.886145",
     "exception": false,
     "start_time": "2022-10-17T18:03:07.108483",
     "status": "completed"
    },
    "tags": []
   },
   "outputs": [
    {
     "data": {
      "text/plain": [
       "<AxesSubplot:xlabel='Sex', ylabel='Age'>"
      ]
     },
     "execution_count": 21,
     "metadata": {},
     "output_type": "execute_result"
    },
    {
     "data": {
      "image/png": "[encoded data removed]",
      "text/plain": [
       "<Figure size 1080x360 with 3 Axes>"
      ]
     },
     "metadata": {
      "needs_background": "light"
     },
     "output_type": "display_data"
    }
   ],
   "source": [
    "f, ax = plt.subplots(1,3, figsize=(15,5))\n",
    "sns.countplot(x='Sex', hue='Survived', data=data, ax=ax[0])\n",
    "sns.pointplot(x='Pclass', y='Survived', hue='Sex', data=data, ax=ax[1])\n",
    "sns.violinplot(y = 'Age', x = 'Sex', hue='Survived', data=data, split=True, ax=ax[2])"
   ]
  },
  {
   "cell_type": "code",
   "execution_count": 22,
   "id": "3f4be05c",
   "metadata": {
    "execution": {
     "iopub.execute_input": "2022-10-17T18:03:07.932938Z",
     "iopub.status.busy": "2022-10-17T18:03:07.932304Z",
     "iopub.status.idle": "2022-10-17T18:03:07.974895Z",
     "shell.execute_reply": "2022-10-17T18:03:07.973633Z"
    },
    "papermill": {
     "duration": 0.069648,
     "end_time": "2022-10-17T18:03:07.977942",
     "exception": false,
     "start_time": "2022-10-17T18:03:07.908294",
     "status": "completed"
    },
    "tags": []
   },
   "outputs": [
    {
     "data": {
      "text/html": [
       "<div>\n",
       "<style scoped>\n",
       "    .dataframe tbody tr th:only-of-type {\n",
       "        vertical-align: middle;\n",
       "    }\n",
       "\n",
       "    .dataframe tbody tr th {\n",
       "        vertical-align: top;\n",
       "    }\n",
       "\n",
       "    .dataframe thead th {\n",
       "        text-align: right;\n",
       "    }\n",
       "</style>\n",
       "<table border=\"1\" class=\"dataframe\">\n",
       "  <thead>\n",
       "    <tr style=\"text-align: right;\">\n",
       "      <th></th>\n",
       "      <th>Survived</th>\n",
       "      <th>0</th>\n",
       "      <th>1</th>\n",
       "      <th>All</th>\n",
       "    </tr>\n",
       "    <tr>\n",
       "      <th>Pclass</th>\n",
       "      <th>Sex</th>\n",
       "      <th></th>\n",
       "      <th></th>\n",
       "      <th></th>\n",
       "    </tr>\n",
       "  </thead>\n",
       "  <tbody>\n",
       "    <tr>\n",
       "      <th rowspan=\"2\" valign=\"top\">1</th>\n",
       "      <th>female</th>\n",
       "      <td>3</td>\n",
       "      <td>91</td>\n",
       "      <td>94</td>\n",
       "    </tr>\n",
       "    <tr>\n",
       "      <th>male</th>\n",
       "      <td>77</td>\n",
       "      <td>45</td>\n",
       "      <td>122</td>\n",
       "    </tr>\n",
       "    <tr>\n",
       "      <th rowspan=\"2\" valign=\"top\">2</th>\n",
       "      <th>female</th>\n",
       "      <td>6</td>\n",
       "      <td>70</td>\n",
       "      <td>76</td>\n",
       "    </tr>\n",
       "    <tr>\n",
       "      <th>male</th>\n",
       "      <td>91</td>\n",
       "      <td>17</td>\n",
       "      <td>108</td>\n",
       "    </tr>\n",
       "    <tr>\n",
       "      <th rowspan=\"2\" valign=\"top\">3</th>\n",
       "      <th>female</th>\n",
       "      <td>72</td>\n",
       "      <td>72</td>\n",
       "      <td>144</td>\n",
       "    </tr>\n",
       "    <tr>\n",
       "      <th>male</th>\n",
       "      <td>300</td>\n",
       "      <td>47</td>\n",
       "      <td>347</td>\n",
       "    </tr>\n",
       "    <tr>\n",
       "      <th>All</th>\n",
       "      <th></th>\n",
       "      <td>549</td>\n",
       "      <td>342</td>\n",
       "      <td>891</td>\n",
       "    </tr>\n",
       "  </tbody>\n",
       "</table>\n",
       "</div>"
      ],
      "text/plain": [
       "Survived         0    1  All\n",
       "Pclass Sex                  \n",
       "1      female    3   91   94\n",
       "       male     77   45  122\n",
       "2      female    6   70   76\n",
       "       male     91   17  108\n",
       "3      female   72   72  144\n",
       "       male    300   47  347\n",
       "All            549  342  891"
      ]
     },
     "execution_count": 22,
     "metadata": {},
     "output_type": "execute_result"
    }
   ],
   "source": [
    "pd.crosstab([data.Pclass, data.Sex], data.Survived, margins =True)"
   ]
  },
  {
   "cell_type": "markdown",
   "id": "ce326183",
   "metadata": {
    "papermill": {
     "duration": 0.022514,
     "end_time": "2022-10-17T18:03:08.023999",
     "exception": false,
     "start_time": "2022-10-17T18:03:08.001485",
     "status": "completed"
    },
    "tags": []
   },
   "source": [
    "* Females have much higher survival rate than males in Pclass 1 and 2\n",
    "* Males from Pclass 1 have high survival rate i.e. 36% survival rate while 13% for Pclass 3\n",
    "* Females from Pclass 3 have 50% survival rate \n",
    "* Male child have high survival rate than female childs."
   ]
  },
  {
   "cell_type": "markdown",
   "id": "c42fe2cb",
   "metadata": {
    "papermill": {
     "duration": 0.021792,
     "end_time": "2022-10-17T18:03:08.068282",
     "exception": false,
     "start_time": "2022-10-17T18:03:08.046490",
     "status": "completed"
    },
    "tags": []
   },
   "source": [
    "**SibSp**"
   ]
  },
  {
   "cell_type": "code",
   "execution_count": 23,
   "id": "c6d8e7f4",
   "metadata": {
    "execution": {
     "iopub.execute_input": "2022-10-17T18:03:08.114577Z",
     "iopub.status.busy": "2022-10-17T18:03:08.113879Z",
     "iopub.status.idle": "2022-10-17T18:03:09.836009Z",
     "shell.execute_reply": "2022-10-17T18:03:09.834176Z"
    },
    "papermill": {
     "duration": 1.748592,
     "end_time": "2022-10-17T18:03:09.838849",
     "exception": false,
     "start_time": "2022-10-17T18:03:08.090257",
     "status": "completed"
    },
    "tags": []
   },
   "outputs": [
    {
     "data": {
      "text/plain": [
       "<AxesSubplot:xlabel='SibSp', ylabel='Survived'>"
      ]
     },
     "execution_count": 23,
     "metadata": {},
     "output_type": "execute_result"
    },
    {
     "data": {
      "image/png": "[encoded data removed]",
      "text/plain": [
       "<Figure size 1080x720 with 4 Axes>"
      ]
     },
     "metadata": {
      "needs_background": "light"
     },
     "output_type": "display_data"
    }
   ],
   "source": [
    "f,ax = plt.subplots(2,2,figsize=(15,10))\n",
    "sns.countplot(x = 'SibSp', data=data, ax=ax[0][0])\n",
    "sns.countplot(x = 'SibSp', hue='Survived', data=data, ax=ax[0][1])\n",
    "sns.pointplot(x = 'SibSp',y= 'Survived', hue='Pclass', data=data, ax=ax[1][0])\n",
    "sns.pointplot(x = 'SibSp',y= 'Survived', hue='Sex', data=data, ax=ax[1][1])"
   ]
  },
  {
   "cell_type": "code",
   "execution_count": 24,
   "id": "76555030",
   "metadata": {
    "execution": {
     "iopub.execute_input": "2022-10-17T18:03:09.887549Z",
     "iopub.status.busy": "2022-10-17T18:03:09.887126Z",
     "iopub.status.idle": "2022-10-17T18:03:09.946279Z",
     "shell.execute_reply": "2022-10-17T18:03:09.945039Z"
    },
    "papermill": {
     "duration": 0.086587,
     "end_time": "2022-10-17T18:03:09.948963",
     "exception": false,
     "start_time": "2022-10-17T18:03:09.862376",
     "status": "completed"
    },
    "tags": []
   },
   "outputs": [
    {
     "data": {
      "text/html": [
       "<div>\n",
       "<style scoped>\n",
       "    .dataframe tbody tr th:only-of-type {\n",
       "        vertical-align: middle;\n",
       "    }\n",
       "\n",
       "    .dataframe tbody tr th {\n",
       "        vertical-align: top;\n",
       "    }\n",
       "\n",
       "    .dataframe thead tr th {\n",
       "        text-align: left;\n",
       "    }\n",
       "\n",
       "    .dataframe thead tr:last-of-type th {\n",
       "        text-align: right;\n",
       "    }\n",
       "</style>\n",
       "<table border=\"1\" class=\"dataframe\">\n",
       "  <thead>\n",
       "    <tr>\n",
       "      <th>SibSp</th>\n",
       "      <th colspan=\"2\" halign=\"left\">0</th>\n",
       "      <th colspan=\"2\" halign=\"left\">1</th>\n",
       "      <th colspan=\"2\" halign=\"left\">2</th>\n",
       "      <th colspan=\"2\" halign=\"left\">3</th>\n",
       "      <th colspan=\"2\" halign=\"left\">4</th>\n",
       "      <th colspan=\"2\" halign=\"left\">5</th>\n",
       "      <th colspan=\"2\" halign=\"left\">8</th>\n",
       "      <th>All</th>\n",
       "    </tr>\n",
       "    <tr>\n",
       "      <th>Sex</th>\n",
       "      <th>female</th>\n",
       "      <th>male</th>\n",
       "      <th>female</th>\n",
       "      <th>male</th>\n",
       "      <th>female</th>\n",
       "      <th>male</th>\n",
       "      <th>female</th>\n",
       "      <th>male</th>\n",
       "      <th>female</th>\n",
       "      <th>male</th>\n",
       "      <th>female</th>\n",
       "      <th>male</th>\n",
       "      <th>female</th>\n",
       "      <th>male</th>\n",
       "      <th></th>\n",
       "    </tr>\n",
       "    <tr>\n",
       "      <th>Survived</th>\n",
       "      <th></th>\n",
       "      <th></th>\n",
       "      <th></th>\n",
       "      <th></th>\n",
       "      <th></th>\n",
       "      <th></th>\n",
       "      <th></th>\n",
       "      <th></th>\n",
       "      <th></th>\n",
       "      <th></th>\n",
       "      <th></th>\n",
       "      <th></th>\n",
       "      <th></th>\n",
       "      <th></th>\n",
       "      <th></th>\n",
       "    </tr>\n",
       "  </thead>\n",
       "  <tbody>\n",
       "    <tr>\n",
       "      <th>0</th>\n",
       "      <td>37</td>\n",
       "      <td>361</td>\n",
       "      <td>26</td>\n",
       "      <td>71</td>\n",
       "      <td>3</td>\n",
       "      <td>12</td>\n",
       "      <td>7</td>\n",
       "      <td>5</td>\n",
       "      <td>4</td>\n",
       "      <td>11</td>\n",
       "      <td>1</td>\n",
       "      <td>4</td>\n",
       "      <td>3</td>\n",
       "      <td>4</td>\n",
       "      <td>549</td>\n",
       "    </tr>\n",
       "    <tr>\n",
       "      <th>1</th>\n",
       "      <td>137</td>\n",
       "      <td>73</td>\n",
       "      <td>80</td>\n",
       "      <td>32</td>\n",
       "      <td>10</td>\n",
       "      <td>3</td>\n",
       "      <td>4</td>\n",
       "      <td>0</td>\n",
       "      <td>2</td>\n",
       "      <td>1</td>\n",
       "      <td>0</td>\n",
       "      <td>0</td>\n",
       "      <td>0</td>\n",
       "      <td>0</td>\n",
       "      <td>342</td>\n",
       "    </tr>\n",
       "    <tr>\n",
       "      <th>All</th>\n",
       "      <td>174</td>\n",
       "      <td>434</td>\n",
       "      <td>106</td>\n",
       "      <td>103</td>\n",
       "      <td>13</td>\n",
       "      <td>15</td>\n",
       "      <td>11</td>\n",
       "      <td>5</td>\n",
       "      <td>6</td>\n",
       "      <td>12</td>\n",
       "      <td>1</td>\n",
       "      <td>4</td>\n",
       "      <td>3</td>\n",
       "      <td>4</td>\n",
       "      <td>891</td>\n",
       "    </tr>\n",
       "  </tbody>\n",
       "</table>\n",
       "</div>"
      ],
      "text/plain": [
       "SibSp         0           1           2           3           4           5  \\\n",
       "Sex      female male female male female male female male female male female   \n",
       "Survived                                                                      \n",
       "0            37  361     26   71      3   12      7    5      4   11      1   \n",
       "1           137   73     80   32     10    3      4    0      2    1      0   \n",
       "All         174  434    106  103     13   15     11    5      6   12      1   \n",
       "\n",
       "SibSp              8       All  \n",
       "Sex      male female male       \n",
       "Survived                        \n",
       "0           4      3    4  549  \n",
       "1           0      0    0  342  \n",
       "All         4      3    4  891  "
      ]
     },
     "execution_count": 24,
     "metadata": {},
     "output_type": "execute_result"
    }
   ],
   "source": [
    "pd.crosstab(data.Survived,[data.SibSp, data.Sex], margins=True)"
   ]
  },
  {
   "cell_type": "markdown",
   "id": "5203f1d4",
   "metadata": {
    "papermill": {
     "duration": 0.023088,
     "end_time": "2022-10-17T18:03:09.995821",
     "exception": false,
     "start_time": "2022-10-17T18:03:09.972733",
     "status": "completed"
    },
    "tags": []
   },
   "source": [
    "* Numbers of Passengers with more than 1 siblings decreases significantly.\n",
    "* Males with zero siblings are more in numbers and 83% of them died.\n",
    "* Survival rate keeps decreasing with the increment of Siblings."
   ]
  },
  {
   "cell_type": "markdown",
   "id": "eb71deb1",
   "metadata": {
    "papermill": {
     "duration": 0.022936,
     "end_time": "2022-10-17T18:03:10.042189",
     "exception": false,
     "start_time": "2022-10-17T18:03:10.019253",
     "status": "completed"
    },
    "tags": []
   },
   "source": [
    "**Parch**"
   ]
  },
  {
   "cell_type": "code",
   "execution_count": 25,
   "id": "d4f6b4a2",
   "metadata": {
    "execution": {
     "iopub.execute_input": "2022-10-17T18:03:10.091437Z",
     "iopub.status.busy": "2022-10-17T18:03:10.090378Z",
     "iopub.status.idle": "2022-10-17T18:03:11.427753Z",
     "shell.execute_reply": "2022-10-17T18:03:11.426886Z"
    },
    "papermill": {
     "duration": 1.364566,
     "end_time": "2022-10-17T18:03:11.430111",
     "exception": false,
     "start_time": "2022-10-17T18:03:10.065545",
     "status": "completed"
    },
    "tags": []
   },
   "outputs": [
    {
     "data": {
      "text/plain": [
       "<AxesSubplot:xlabel='Parch', ylabel='Survived'>"
      ]
     },
     "execution_count": 25,
     "metadata": {},
     "output_type": "execute_result"
    },
    {
     "data": {
      "image/png": "[encoded data removed]",
      "text/plain": [
       "<Figure size 1080x360 with 3 Axes>"
      ]
     },
     "metadata": {
      "needs_background": "light"
     },
     "output_type": "display_data"
    }
   ],
   "source": [
    "f,ax = plt.subplots(1, 3, figsize = (15,5))\n",
    "sns.countplot(x='Parch', hue= 'Survived', data=data, ax=ax[0])\n",
    "sns.pointplot(x='Parch', y= 'Survived', hue='Sex', data=data, ax=ax[1])\n",
    "sns.pointplot(x='Parch', y= 'Survived', hue='Pclass', data=data, ax=ax[2])"
   ]
  },
  {
   "cell_type": "code",
   "execution_count": 26,
   "id": "ce55e2c8",
   "metadata": {
    "execution": {
     "iopub.execute_input": "2022-10-17T18:03:11.482256Z",
     "iopub.status.busy": "2022-10-17T18:03:11.481812Z",
     "iopub.status.idle": "2022-10-17T18:03:11.528197Z",
     "shell.execute_reply": "2022-10-17T18:03:11.527005Z"
    },
    "papermill": {
     "duration": 0.074218,
     "end_time": "2022-10-17T18:03:11.530787",
     "exception": false,
     "start_time": "2022-10-17T18:03:11.456569",
     "status": "completed"
    },
    "tags": []
   },
   "outputs": [
    {
     "data": {
      "text/html": [
       "<div>\n",
       "<style scoped>\n",
       "    .dataframe tbody tr th:only-of-type {\n",
       "        vertical-align: middle;\n",
       "    }\n",
       "\n",
       "    .dataframe tbody tr th {\n",
       "        vertical-align: top;\n",
       "    }\n",
       "\n",
       "    .dataframe thead th {\n",
       "        text-align: right;\n",
       "    }\n",
       "</style>\n",
       "<table border=\"1\" class=\"dataframe\">\n",
       "  <thead>\n",
       "    <tr style=\"text-align: right;\">\n",
       "      <th>Parch</th>\n",
       "      <th>0</th>\n",
       "      <th>1</th>\n",
       "      <th>2</th>\n",
       "      <th>3</th>\n",
       "      <th>4</th>\n",
       "      <th>5</th>\n",
       "      <th>6</th>\n",
       "      <th>All</th>\n",
       "    </tr>\n",
       "    <tr>\n",
       "      <th>Survived</th>\n",
       "      <th></th>\n",
       "      <th></th>\n",
       "      <th></th>\n",
       "      <th></th>\n",
       "      <th></th>\n",
       "      <th></th>\n",
       "      <th></th>\n",
       "      <th></th>\n",
       "    </tr>\n",
       "  </thead>\n",
       "  <tbody>\n",
       "    <tr>\n",
       "      <th>0</th>\n",
       "      <td>445</td>\n",
       "      <td>53</td>\n",
       "      <td>40</td>\n",
       "      <td>2</td>\n",
       "      <td>4</td>\n",
       "      <td>4</td>\n",
       "      <td>1</td>\n",
       "      <td>549</td>\n",
       "    </tr>\n",
       "    <tr>\n",
       "      <th>1</th>\n",
       "      <td>233</td>\n",
       "      <td>65</td>\n",
       "      <td>40</td>\n",
       "      <td>3</td>\n",
       "      <td>0</td>\n",
       "      <td>1</td>\n",
       "      <td>0</td>\n",
       "      <td>342</td>\n",
       "    </tr>\n",
       "    <tr>\n",
       "      <th>All</th>\n",
       "      <td>678</td>\n",
       "      <td>118</td>\n",
       "      <td>80</td>\n",
       "      <td>5</td>\n",
       "      <td>4</td>\n",
       "      <td>5</td>\n",
       "      <td>1</td>\n",
       "      <td>891</td>\n",
       "    </tr>\n",
       "  </tbody>\n",
       "</table>\n",
       "</div>"
      ],
      "text/plain": [
       "Parch       0    1   2  3  4  5  6  All\n",
       "Survived                               \n",
       "0         445   53  40  2  4  4  1  549\n",
       "1         233   65  40  3  0  1  0  342\n",
       "All       678  118  80  5  4  5  1  891"
      ]
     },
     "execution_count": 26,
     "metadata": {},
     "output_type": "execute_result"
    }
   ],
   "source": [
    "pd.crosstab([data.Survived],[data.Parch], margins=True)"
   ]
  },
  {
   "cell_type": "markdown",
   "id": "7196bb76",
   "metadata": {
    "papermill": {
     "duration": 0.024846,
     "end_time": "2022-10-17T18:03:11.580509",
     "exception": false,
     "start_time": "2022-10-17T18:03:11.555663",
     "status": "completed"
    },
    "tags": []
   },
   "source": [
    "* 76% passengers come onboard with no parents/children which reduces significantly to 1.6% with 3 or more Parch.\n",
    "* Males with 1 or 2 Parents/children survived more."
   ]
  },
  {
   "cell_type": "markdown",
   "id": "4ad2dac1",
   "metadata": {
    "papermill": {
     "duration": 0.024435,
     "end_time": "2022-10-17T18:03:11.629787",
     "exception": false,
     "start_time": "2022-10-17T18:03:11.605352",
     "status": "completed"
    },
    "tags": []
   },
   "source": [
    "**Fare**"
   ]
  },
  {
   "cell_type": "code",
   "execution_count": 27,
   "id": "90878f00",
   "metadata": {
    "execution": {
     "iopub.execute_input": "2022-10-17T18:03:11.681373Z",
     "iopub.status.busy": "2022-10-17T18:03:11.680306Z",
     "iopub.status.idle": "2022-10-17T18:03:11.691426Z",
     "shell.execute_reply": "2022-10-17T18:03:11.690294Z"
    },
    "papermill": {
     "duration": 0.03962,
     "end_time": "2022-10-17T18:03:11.693896",
     "exception": false,
     "start_time": "2022-10-17T18:03:11.654276",
     "status": "completed"
    },
    "tags": []
   },
   "outputs": [
    {
     "data": {
      "text/plain": [
       "count    891.000000\n",
       "mean      32.204208\n",
       "std       49.693429\n",
       "min        0.000000\n",
       "25%        7.910400\n",
       "50%       14.454200\n",
       "75%       31.000000\n",
       "max      512.329200\n",
       "Name: Fare, dtype: float64"
      ]
     },
     "execution_count": 27,
     "metadata": {},
     "output_type": "execute_result"
    }
   ],
   "source": [
    "data['Fare'].describe()"
   ]
  },
  {
   "cell_type": "code",
   "execution_count": 28,
   "id": "d2eed282",
   "metadata": {
    "execution": {
     "iopub.execute_input": "2022-10-17T18:03:11.745294Z",
     "iopub.status.busy": "2022-10-17T18:03:11.744544Z",
     "iopub.status.idle": "2022-10-17T18:03:11.750092Z",
     "shell.execute_reply": "2022-10-17T18:03:11.749263Z"
    },
    "papermill": {
     "duration": 0.03385,
     "end_time": "2022-10-17T18:03:11.752351",
     "exception": false,
     "start_time": "2022-10-17T18:03:11.718501",
     "status": "completed"
    },
    "tags": []
   },
   "outputs": [],
   "source": [
    "# Replacing 0 in Fare to the mean value\n",
    "data['Fare'].replace(0, 21, inplace=True)"
   ]
  },
  {
   "cell_type": "code",
   "execution_count": 29,
   "id": "ff41b487",
   "metadata": {
    "execution": {
     "iopub.execute_input": "2022-10-17T18:03:11.805704Z",
     "iopub.status.busy": "2022-10-17T18:03:11.804957Z",
     "iopub.status.idle": "2022-10-17T18:03:11.813120Z",
     "shell.execute_reply": "2022-10-17T18:03:11.812289Z"
    },
    "papermill": {
     "duration": 0.036765,
     "end_time": "2022-10-17T18:03:11.815389",
     "exception": false,
     "start_time": "2022-10-17T18:03:11.778624",
     "status": "completed"
    },
    "tags": []
   },
   "outputs": [
    {
     "data": {
      "text/plain": [
       "Pclass\n",
       "1    84.640799\n",
       "2    21.346966\n",
       "3    13.846630\n",
       "Name: Fare, dtype: float64"
      ]
     },
     "execution_count": 29,
     "metadata": {},
     "output_type": "execute_result"
    }
   ],
   "source": [
    "# Mean of Fare wrt Pclass\n",
    "data.groupby('Pclass')['Fare'].mean()"
   ]
  },
  {
   "cell_type": "code",
   "execution_count": 30,
   "id": "63623288",
   "metadata": {
    "execution": {
     "iopub.execute_input": "2022-10-17T18:03:11.867256Z",
     "iopub.status.busy": "2022-10-17T18:03:11.866747Z",
     "iopub.status.idle": "2022-10-17T18:03:11.875901Z",
     "shell.execute_reply": "2022-10-17T18:03:11.874485Z"
    },
    "papermill": {
     "duration": 0.038009,
     "end_time": "2022-10-17T18:03:11.878535",
     "exception": false,
     "start_time": "2022-10-17T18:03:11.840526",
     "status": "completed"
    },
    "tags": []
   },
   "outputs": [],
   "source": [
    "# Removing Outliers\n",
    "data.drop(data[data['Fare'] > 80].index.to_list(), axis=0, inplace=True)"
   ]
  },
  {
   "cell_type": "code",
   "execution_count": 31,
   "id": "268aa572",
   "metadata": {
    "execution": {
     "iopub.execute_input": "2022-10-17T18:03:11.930269Z",
     "iopub.status.busy": "2022-10-17T18:03:11.929843Z",
     "iopub.status.idle": "2022-10-17T18:03:12.632067Z",
     "shell.execute_reply": "2022-10-17T18:03:12.630757Z"
    },
    "papermill": {
     "duration": 0.730925,
     "end_time": "2022-10-17T18:03:12.634604",
     "exception": false,
     "start_time": "2022-10-17T18:03:11.903679",
     "status": "completed"
    },
    "tags": []
   },
   "outputs": [
    {
     "data": {
      "text/plain": [
       "<AxesSubplot:xlabel='Pclass', ylabel='Fare'>"
      ]
     },
     "execution_count": 31,
     "metadata": {},
     "output_type": "execute_result"
    },
    {
     "data": {
      "image/png": "[encoded data removed]",
      "text/plain": [
       "<Figure size 1080x360 with 3 Axes>"
      ]
     },
     "metadata": {
      "needs_background": "light"
     },
     "output_type": "display_data"
    }
   ],
   "source": [
    "f,ax = plt.subplots(1,3, figsize=(15,5))\n",
    "sns.boxenplot(data=data, y='Fare', x='Survived', ax=ax[0])\n",
    "sns.boxenplot(data=data, y='Fare', x='Pclass',hue= 'Sex', ax=ax[1])\n",
    "sns.boxenplot(data=data, y='Fare', x='Pclass',hue= 'Survived', ax=ax[2])"
   ]
  },
  {
   "cell_type": "markdown",
   "id": "8e936851",
   "metadata": {
    "papermill": {
     "duration": 0.024747,
     "end_time": "2022-10-17T18:03:12.684616",
     "exception": false,
     "start_time": "2022-10-17T18:03:12.659869",
     "status": "completed"
    },
    "tags": []
   },
   "source": [
    "* Fare for Females in Pclass 1 and 3 is higher than Males"
   ]
  },
  {
   "cell_type": "markdown",
   "id": "1dd62e49",
   "metadata": {
    "papermill": {
     "duration": 0.024711,
     "end_time": "2022-10-17T18:03:12.734311",
     "exception": false,
     "start_time": "2022-10-17T18:03:12.709600",
     "status": "completed"
    },
    "tags": []
   },
   "source": [
    "**Embarked**"
   ]
  },
  {
   "cell_type": "code",
   "execution_count": 32,
   "id": "2272cbfb",
   "metadata": {
    "execution": {
     "iopub.execute_input": "2022-10-17T18:03:12.786603Z",
     "iopub.status.busy": "2022-10-17T18:03:12.785443Z",
     "iopub.status.idle": "2022-10-17T18:03:12.796678Z",
     "shell.execute_reply": "2022-10-17T18:03:12.795270Z"
    },
    "papermill": {
     "duration": 0.040304,
     "end_time": "2022-10-17T18:03:12.799412",
     "exception": false,
     "start_time": "2022-10-17T18:03:12.759108",
     "status": "completed"
    },
    "tags": []
   },
   "outputs": [
    {
     "data": {
      "text/plain": [
       "count     815\n",
       "unique      3\n",
       "top         S\n",
       "freq      610\n",
       "Name: Embarked, dtype: object"
      ]
     },
     "execution_count": 32,
     "metadata": {},
     "output_type": "execute_result"
    }
   ],
   "source": [
    "data['Embarked'].describe()"
   ]
  },
  {
   "cell_type": "code",
   "execution_count": 33,
   "id": "9054e273",
   "metadata": {
    "execution": {
     "iopub.execute_input": "2022-10-17T18:03:12.853144Z",
     "iopub.status.busy": "2022-10-17T18:03:12.852314Z",
     "iopub.status.idle": "2022-10-17T18:03:12.858288Z",
     "shell.execute_reply": "2022-10-17T18:03:12.857384Z"
    },
    "papermill": {
     "duration": 0.03547,
     "end_time": "2022-10-17T18:03:12.860828",
     "exception": false,
     "start_time": "2022-10-17T18:03:12.825358",
     "status": "completed"
    },
    "tags": []
   },
   "outputs": [],
   "source": [
    "# Filling nan value with most frequent value\n",
    "data.Embarked.fillna('S', axis=0, inplace=True)"
   ]
  },
  {
   "cell_type": "code",
   "execution_count": 34,
   "id": "c0cf72a4",
   "metadata": {
    "execution": {
     "iopub.execute_input": "2022-10-17T18:03:12.914269Z",
     "iopub.status.busy": "2022-10-17T18:03:12.913824Z",
     "iopub.status.idle": "2022-10-17T18:03:14.293393Z",
     "shell.execute_reply": "2022-10-17T18:03:14.292160Z"
    },
    "papermill": {
     "duration": 1.409764,
     "end_time": "2022-10-17T18:03:14.296395",
     "exception": false,
     "start_time": "2022-10-17T18:03:12.886631",
     "status": "completed"
    },
    "tags": []
   },
   "outputs": [
    {
     "data": {
      "text/plain": [
       "<AxesSubplot:xlabel='Embarked', ylabel='Fare'>"
      ]
     },
     "execution_count": 34,
     "metadata": {},
     "output_type": "execute_result"
    },
    {
     "data": {
      "image/png": "[encoded data removed]",
      "text/plain": [
       "<Figure size 720x720 with 4 Axes>"
      ]
     },
     "metadata": {
      "needs_background": "light"
     },
     "output_type": "display_data"
    }
   ],
   "source": [
    "f,ax = plt.subplots(2,2, figsize=(10,10))\n",
    "sns.countplot(x='Embarked', hue='Survived', data=data, ax=ax[0][0])\n",
    "sns.pointplot(x='Embarked', y='Survived', hue='Sex', data=data, ax=ax[0][1])\n",
    "sns.pointplot(x='Embarked', y='Survived', hue='Pclass', data=data, ax=ax[1][0])\n",
    "sns.pointplot(x='Embarked', y='Fare', hue='Survived', data=data, ax=ax[1][1])"
   ]
  },
  {
   "cell_type": "code",
   "execution_count": 35,
   "id": "8ec923ee",
   "metadata": {
    "execution": {
     "iopub.execute_input": "2022-10-17T18:03:14.354108Z",
     "iopub.status.busy": "2022-10-17T18:03:14.353598Z",
     "iopub.status.idle": "2022-10-17T18:03:14.398059Z",
     "shell.execute_reply": "2022-10-17T18:03:14.396725Z"
    },
    "papermill": {
     "duration": 0.077006,
     "end_time": "2022-10-17T18:03:14.400786",
     "exception": false,
     "start_time": "2022-10-17T18:03:14.323780",
     "status": "completed"
    },
    "tags": []
   },
   "outputs": [
    {
     "data": {
      "text/html": [
       "<div>\n",
       "<style scoped>\n",
       "    .dataframe tbody tr th:only-of-type {\n",
       "        vertical-align: middle;\n",
       "    }\n",
       "\n",
       "    .dataframe tbody tr th {\n",
       "        vertical-align: top;\n",
       "    }\n",
       "\n",
       "    .dataframe thead th {\n",
       "        text-align: right;\n",
       "    }\n",
       "</style>\n",
       "<table border=\"1\" class=\"dataframe\">\n",
       "  <thead>\n",
       "    <tr style=\"text-align: right;\">\n",
       "      <th></th>\n",
       "      <th>Survived</th>\n",
       "      <th>0</th>\n",
       "      <th>1</th>\n",
       "      <th>All</th>\n",
       "    </tr>\n",
       "    <tr>\n",
       "      <th>Embarked</th>\n",
       "      <th>Pclass</th>\n",
       "      <th></th>\n",
       "      <th></th>\n",
       "      <th></th>\n",
       "    </tr>\n",
       "  </thead>\n",
       "  <tbody>\n",
       "    <tr>\n",
       "      <th rowspan=\"3\" valign=\"top\">C</th>\n",
       "      <th>1</th>\n",
       "      <td>17</td>\n",
       "      <td>30</td>\n",
       "      <td>47</td>\n",
       "    </tr>\n",
       "    <tr>\n",
       "      <th>2</th>\n",
       "      <td>8</td>\n",
       "      <td>9</td>\n",
       "      <td>17</td>\n",
       "    </tr>\n",
       "    <tr>\n",
       "      <th>3</th>\n",
       "      <td>41</td>\n",
       "      <td>25</td>\n",
       "      <td>66</td>\n",
       "    </tr>\n",
       "    <tr>\n",
       "      <th rowspan=\"2\" valign=\"top\">Q</th>\n",
       "      <th>2</th>\n",
       "      <td>1</td>\n",
       "      <td>2</td>\n",
       "      <td>3</td>\n",
       "    </tr>\n",
       "    <tr>\n",
       "      <th>3</th>\n",
       "      <td>45</td>\n",
       "      <td>27</td>\n",
       "      <td>72</td>\n",
       "    </tr>\n",
       "    <tr>\n",
       "      <th rowspan=\"3\" valign=\"top\">S</th>\n",
       "      <th>1</th>\n",
       "      <td>46</td>\n",
       "      <td>49</td>\n",
       "      <td>95</td>\n",
       "    </tr>\n",
       "    <tr>\n",
       "      <th>2</th>\n",
       "      <td>88</td>\n",
       "      <td>76</td>\n",
       "      <td>164</td>\n",
       "    </tr>\n",
       "    <tr>\n",
       "      <th>3</th>\n",
       "      <td>286</td>\n",
       "      <td>67</td>\n",
       "      <td>353</td>\n",
       "    </tr>\n",
       "    <tr>\n",
       "      <th>All</th>\n",
       "      <th></th>\n",
       "      <td>532</td>\n",
       "      <td>285</td>\n",
       "      <td>817</td>\n",
       "    </tr>\n",
       "  </tbody>\n",
       "</table>\n",
       "</div>"
      ],
      "text/plain": [
       "Survived           0    1  All\n",
       "Embarked Pclass               \n",
       "C        1        17   30   47\n",
       "         2         8    9   17\n",
       "         3        41   25   66\n",
       "Q        2         1    2    3\n",
       "         3        45   27   72\n",
       "S        1        46   49   95\n",
       "         2        88   76  164\n",
       "         3       286   67  353\n",
       "All              532  285  817"
      ]
     },
     "execution_count": 35,
     "metadata": {},
     "output_type": "execute_result"
    }
   ],
   "source": [
    "pd.crosstab([data.Embarked, data.Pclass], [data.Survived], margins=True)"
   ]
  },
  {
   "cell_type": "code",
   "execution_count": 36,
   "id": "9c303819",
   "metadata": {
    "execution": {
     "iopub.execute_input": "2022-10-17T18:03:14.456060Z",
     "iopub.status.busy": "2022-10-17T18:03:14.455028Z",
     "iopub.status.idle": "2022-10-17T18:03:14.499327Z",
     "shell.execute_reply": "2022-10-17T18:03:14.498102Z"
    },
    "papermill": {
     "duration": 0.074555,
     "end_time": "2022-10-17T18:03:14.501818",
     "exception": false,
     "start_time": "2022-10-17T18:03:14.427263",
     "status": "completed"
    },
    "tags": []
   },
   "outputs": [
    {
     "data": {
      "text/html": [
       "<div>\n",
       "<style scoped>\n",
       "    .dataframe tbody tr th:only-of-type {\n",
       "        vertical-align: middle;\n",
       "    }\n",
       "\n",
       "    .dataframe tbody tr th {\n",
       "        vertical-align: top;\n",
       "    }\n",
       "\n",
       "    .dataframe thead th {\n",
       "        text-align: right;\n",
       "    }\n",
       "</style>\n",
       "<table border=\"1\" class=\"dataframe\">\n",
       "  <thead>\n",
       "    <tr style=\"text-align: right;\">\n",
       "      <th></th>\n",
       "      <th>Survived</th>\n",
       "      <th>0</th>\n",
       "      <th>1</th>\n",
       "      <th>All</th>\n",
       "    </tr>\n",
       "    <tr>\n",
       "      <th>Embarked</th>\n",
       "      <th>Sex</th>\n",
       "      <th></th>\n",
       "      <th></th>\n",
       "      <th></th>\n",
       "    </tr>\n",
       "  </thead>\n",
       "  <tbody>\n",
       "    <tr>\n",
       "      <th rowspan=\"2\" valign=\"top\">C</th>\n",
       "      <th>female</th>\n",
       "      <td>9</td>\n",
       "      <td>40</td>\n",
       "      <td>49</td>\n",
       "    </tr>\n",
       "    <tr>\n",
       "      <th>male</th>\n",
       "      <td>57</td>\n",
       "      <td>24</td>\n",
       "      <td>81</td>\n",
       "    </tr>\n",
       "    <tr>\n",
       "      <th rowspan=\"2\" valign=\"top\">Q</th>\n",
       "      <th>female</th>\n",
       "      <td>9</td>\n",
       "      <td>26</td>\n",
       "      <td>35</td>\n",
       "    </tr>\n",
       "    <tr>\n",
       "      <th>male</th>\n",
       "      <td>37</td>\n",
       "      <td>3</td>\n",
       "      <td>40</td>\n",
       "    </tr>\n",
       "    <tr>\n",
       "      <th rowspan=\"2\" valign=\"top\">S</th>\n",
       "      <th>female</th>\n",
       "      <td>61</td>\n",
       "      <td>121</td>\n",
       "      <td>182</td>\n",
       "    </tr>\n",
       "    <tr>\n",
       "      <th>male</th>\n",
       "      <td>359</td>\n",
       "      <td>71</td>\n",
       "      <td>430</td>\n",
       "    </tr>\n",
       "    <tr>\n",
       "      <th>All</th>\n",
       "      <th></th>\n",
       "      <td>532</td>\n",
       "      <td>285</td>\n",
       "      <td>817</td>\n",
       "    </tr>\n",
       "  </tbody>\n",
       "</table>\n",
       "</div>"
      ],
      "text/plain": [
       "Survived           0    1  All\n",
       "Embarked Sex                  \n",
       "C        female    9   40   49\n",
       "         male     57   24   81\n",
       "Q        female    9   26   35\n",
       "         male     37    3   40\n",
       "S        female   61  121  182\n",
       "         male    359   71  430\n",
       "All              532  285  817"
      ]
     },
     "execution_count": 36,
     "metadata": {},
     "output_type": "execute_result"
    }
   ],
   "source": [
    "pd.crosstab([data.Embarked, data.Sex], [data.Survived], margins=True)"
   ]
  },
  {
   "cell_type": "markdown",
   "id": "dbe4b964",
   "metadata": {
    "papermill": {
     "duration": 0.026002,
     "end_time": "2022-10-17T18:03:14.554676",
     "exception": false,
     "start_time": "2022-10-17T18:03:14.528674",
     "status": "completed"
    },
    "tags": []
   },
   "source": [
    "* C = Cherbourg, Q = Queenstown, S = Southampton\n",
    "* No one from Pclass 1 aboard from Queenstown and Mostly Pclass 3 aboard from there.\n",
    "* Maximum Number of people aboard from Southampton\n",
    "* Passengers aboard from Cherbourg have high Fare and Survival Rate."
   ]
  },
  {
   "cell_type": "markdown",
   "id": "6a573785",
   "metadata": {
    "papermill": {
     "duration": 0.026377,
     "end_time": "2022-10-17T18:03:14.607944",
     "exception": false,
     "start_time": "2022-10-17T18:03:14.581567",
     "status": "completed"
    },
    "tags": []
   },
   "source": [
    "## Observations\n",
    "* Pclass 1 have high survival rate i.e. 62%.\n",
    "* Males have low survival rate than Females.\n",
    "* Males from Pclass1 have higher survival rate of 36% than any other Pclass.\n",
    "* Females had high fare for Pclass 1 & 3 and high survival for every Pclass.\n",
    "* Children had high survival, especially male children.\n",
    "* 76% passengers aboard with zero siblings and parents.\n",
    "* Passengers with more than 2 siblings/parents decreases significantly in number.\n",
    "* 83% Males with zero siblings died while Males with 1 Sibling or Parent survived more.\n",
    "* No Pclass 1 passengers aboard from Queenstown.\n",
    "* Maximum number of passengers aboard from Southampton.\n",
    "* Passengers aboard from cherbourg had high fare and survival rate.\n",
    "* Passengers from Age Group of 30 to 40 are high in number but also low survival rate"
   ]
  },
  {
   "cell_type": "markdown",
   "id": "61ec5387",
   "metadata": {
    "papermill": {
     "duration": 0.025899,
     "end_time": "2022-10-17T18:03:14.660595",
     "exception": false,
     "start_time": "2022-10-17T18:03:14.634696",
     "status": "completed"
    },
    "tags": []
   },
   "source": [
    "# Data Preprocessing"
   ]
  },
  {
   "cell_type": "code",
   "execution_count": 37,
   "id": "db003170",
   "metadata": {
    "execution": {
     "iopub.execute_input": "2022-10-17T18:03:14.717552Z",
     "iopub.status.busy": "2022-10-17T18:03:14.717131Z",
     "iopub.status.idle": "2022-10-17T18:03:14.721859Z",
     "shell.execute_reply": "2022-10-17T18:03:14.721009Z"
    },
    "papermill": {
     "duration": 0.036904,
     "end_time": "2022-10-17T18:03:14.723857",
     "exception": false,
     "start_time": "2022-10-17T18:03:14.686953",
     "status": "completed"
    },
    "tags": []
   },
   "outputs": [],
   "source": [
    "feature_list = ['Pclass', 'Sex', 'Age', 'SibSp', \"Parch\", 'Fare', 'Embarked', 'Initials']"
   ]
  },
  {
   "cell_type": "code",
   "execution_count": 38,
   "id": "c438ada0",
   "metadata": {
    "execution": {
     "iopub.execute_input": "2022-10-17T18:03:14.779204Z",
     "iopub.status.busy": "2022-10-17T18:03:14.778242Z",
     "iopub.status.idle": "2022-10-17T18:03:14.795131Z",
     "shell.execute_reply": "2022-10-17T18:03:14.793957Z"
    },
    "papermill": {
     "duration": 0.046964,
     "end_time": "2022-10-17T18:03:14.797606",
     "exception": false,
     "start_time": "2022-10-17T18:03:14.750642",
     "status": "completed"
    },
    "tags": []
   },
   "outputs": [
    {
     "data": {
      "text/html": [
       "<div>\n",
       "<style scoped>\n",
       "    .dataframe tbody tr th:only-of-type {\n",
       "        vertical-align: middle;\n",
       "    }\n",
       "\n",
       "    .dataframe tbody tr th {\n",
       "        vertical-align: top;\n",
       "    }\n",
       "\n",
       "    .dataframe thead th {\n",
       "        text-align: right;\n",
       "    }\n",
       "</style>\n",
       "<table border=\"1\" class=\"dataframe\">\n",
       "  <thead>\n",
       "    <tr style=\"text-align: right;\">\n",
       "      <th></th>\n",
       "      <th>Survived</th>\n",
       "      <th>Pclass</th>\n",
       "      <th>Name</th>\n",
       "      <th>Sex</th>\n",
       "      <th>Age</th>\n",
       "      <th>SibSp</th>\n",
       "      <th>Parch</th>\n",
       "      <th>Fare</th>\n",
       "      <th>Embarked</th>\n",
       "      <th>Initials</th>\n",
       "    </tr>\n",
       "  </thead>\n",
       "  <tbody>\n",
       "    <tr>\n",
       "      <th>0</th>\n",
       "      <td>0</td>\n",
       "      <td>3</td>\n",
       "      <td>Braund, Mr. Owen Harris</td>\n",
       "      <td>male</td>\n",
       "      <td>22.0</td>\n",
       "      <td>1</td>\n",
       "      <td>0</td>\n",
       "      <td>7.2500</td>\n",
       "      <td>S</td>\n",
       "      <td>Mr</td>\n",
       "    </tr>\n",
       "    <tr>\n",
       "      <th>1</th>\n",
       "      <td>1</td>\n",
       "      <td>1</td>\n",
       "      <td>Cumings, Mrs. John Bradley (Florence Briggs Th...</td>\n",
       "      <td>female</td>\n",
       "      <td>38.0</td>\n",
       "      <td>1</td>\n",
       "      <td>0</td>\n",
       "      <td>71.2833</td>\n",
       "      <td>C</td>\n",
       "      <td>Mrs</td>\n",
       "    </tr>\n",
       "    <tr>\n",
       "      <th>2</th>\n",
       "      <td>1</td>\n",
       "      <td>3</td>\n",
       "      <td>Heikkinen, Miss. Laina</td>\n",
       "      <td>female</td>\n",
       "      <td>26.0</td>\n",
       "      <td>0</td>\n",
       "      <td>0</td>\n",
       "      <td>7.9250</td>\n",
       "      <td>S</td>\n",
       "      <td>Miss</td>\n",
       "    </tr>\n",
       "    <tr>\n",
       "      <th>3</th>\n",
       "      <td>1</td>\n",
       "      <td>1</td>\n",
       "      <td>Futrelle, Mrs. Jacques Heath (Lily May Peel)</td>\n",
       "      <td>female</td>\n",
       "      <td>35.0</td>\n",
       "      <td>1</td>\n",
       "      <td>0</td>\n",
       "      <td>53.1000</td>\n",
       "      <td>S</td>\n",
       "      <td>Mrs</td>\n",
       "    </tr>\n",
       "    <tr>\n",
       "      <th>4</th>\n",
       "      <td>0</td>\n",
       "      <td>3</td>\n",
       "      <td>Allen, Mr. William Henry</td>\n",
       "      <td>male</td>\n",
       "      <td>35.0</td>\n",
       "      <td>0</td>\n",
       "      <td>0</td>\n",
       "      <td>8.0500</td>\n",
       "      <td>S</td>\n",
       "      <td>Mr</td>\n",
       "    </tr>\n",
       "  </tbody>\n",
       "</table>\n",
       "</div>"
      ],
      "text/plain": [
       "   Survived  Pclass                                               Name  \\\n",
       "0         0       3                            Braund, Mr. Owen Harris   \n",
       "1         1       1  Cumings, Mrs. John Bradley (Florence Briggs Th...   \n",
       "2         1       3                             Heikkinen, Miss. Laina   \n",
       "3         1       1       Futrelle, Mrs. Jacques Heath (Lily May Peel)   \n",
       "4         0       3                           Allen, Mr. William Henry   \n",
       "\n",
       "      Sex   Age  SibSp  Parch     Fare Embarked Initials  \n",
       "0    male  22.0      1      0   7.2500        S       Mr  \n",
       "1  female  38.0      1      0  71.2833        C      Mrs  \n",
       "2  female  26.0      0      0   7.9250        S     Miss  \n",
       "3  female  35.0      1      0  53.1000        S      Mrs  \n",
       "4    male  35.0      0      0   8.0500        S       Mr  "
      ]
     },
     "execution_count": 38,
     "metadata": {},
     "output_type": "execute_result"
    }
   ],
   "source": [
    "data.head()"
   ]
  },
  {
   "cell_type": "code",
   "execution_count": 39,
   "id": "49d1f013",
   "metadata": {
    "execution": {
     "iopub.execute_input": "2022-10-17T18:03:14.853776Z",
     "iopub.status.busy": "2022-10-17T18:03:14.852560Z",
     "iopub.status.idle": "2022-10-17T18:03:14.859371Z",
     "shell.execute_reply": "2022-10-17T18:03:14.858195Z"
    },
    "papermill": {
     "duration": 0.037327,
     "end_time": "2022-10-17T18:03:14.861746",
     "exception": false,
     "start_time": "2022-10-17T18:03:14.824419",
     "status": "completed"
    },
    "tags": []
   },
   "outputs": [],
   "source": [
    "X = data[feature_list]\n",
    "y = data.iloc[: , 0].values"
   ]
  },
  {
   "cell_type": "code",
   "execution_count": 40,
   "id": "f8298766",
   "metadata": {
    "execution": {
     "iopub.execute_input": "2022-10-17T18:03:14.918516Z",
     "iopub.status.busy": "2022-10-17T18:03:14.918098Z",
     "iopub.status.idle": "2022-10-17T18:03:14.931891Z",
     "shell.execute_reply": "2022-10-17T18:03:14.930938Z"
    },
    "papermill": {
     "duration": 0.04616,
     "end_time": "2022-10-17T18:03:14.934706",
     "exception": false,
     "start_time": "2022-10-17T18:03:14.888546",
     "status": "completed"
    },
    "tags": []
   },
   "outputs": [],
   "source": [
    "# Encoding Using One Hot Encoder Method with pandas .get_dummies function:\n",
    "X = pd.get_dummies(X)"
   ]
  },
  {
   "cell_type": "code",
   "execution_count": 41,
   "id": "c0ef00f3",
   "metadata": {
    "execution": {
     "iopub.execute_input": "2022-10-17T18:03:15.005289Z",
     "iopub.status.busy": "2022-10-17T18:03:15.004844Z",
     "iopub.status.idle": "2022-10-17T18:03:15.027277Z",
     "shell.execute_reply": "2022-10-17T18:03:15.026397Z"
    },
    "papermill": {
     "duration": 0.062673,
     "end_time": "2022-10-17T18:03:15.030094",
     "exception": false,
     "start_time": "2022-10-17T18:03:14.967421",
     "status": "completed"
    },
    "tags": []
   },
   "outputs": [],
   "source": [
    "from sklearn.model_selection import train_test_split\n",
    "xtrain, xtest, ytrain, ytest = train_test_split(X, y, test_size=0.2, random_state=0)"
   ]
  },
  {
   "cell_type": "code",
   "execution_count": 42,
   "id": "c4a28872",
   "metadata": {
    "execution": {
     "iopub.execute_input": "2022-10-17T18:03:15.095759Z",
     "iopub.status.busy": "2022-10-17T18:03:15.094925Z",
     "iopub.status.idle": "2022-10-17T18:03:15.107928Z",
     "shell.execute_reply": "2022-10-17T18:03:15.106647Z"
    },
    "papermill": {
     "duration": 0.047045,
     "end_time": "2022-10-17T18:03:15.110734",
     "exception": false,
     "start_time": "2022-10-17T18:03:15.063689",
     "status": "completed"
    },
    "tags": []
   },
   "outputs": [],
   "source": [
    "from sklearn.preprocessing import StandardScaler\n",
    "scaler = StandardScaler()\n",
    "X_clean = scaler.fit_transform(xtrain)\n",
    "X_test_clean = scaler.transform(xtest)"
   ]
  },
  {
   "cell_type": "markdown",
   "id": "747c66d2",
   "metadata": {
    "papermill": {
     "duration": 0.026933,
     "end_time": "2022-10-17T18:03:15.164778",
     "exception": false,
     "start_time": "2022-10-17T18:03:15.137845",
     "status": "completed"
    },
    "tags": []
   },
   "source": [
    "# Model Implementation"
   ]
  },
  {
   "cell_type": "markdown",
   "id": "186b7b5a",
   "metadata": {
    "papermill": {
     "duration": 0.026783,
     "end_time": "2022-10-17T18:03:15.218540",
     "exception": false,
     "start_time": "2022-10-17T18:03:15.191757",
     "status": "completed"
    },
    "tags": []
   },
   "source": [
    "**Linear Logistic Model**"
   ]
  },
  {
   "cell_type": "code",
   "execution_count": 43,
   "id": "28e3ea8a",
   "metadata": {
    "execution": {
     "iopub.execute_input": "2022-10-17T18:03:15.274446Z",
     "iopub.status.busy": "2022-10-17T18:03:15.274023Z",
     "iopub.status.idle": "2022-10-17T18:03:15.388195Z",
     "shell.execute_reply": "2022-10-17T18:03:15.386450Z"
    },
    "papermill": {
     "duration": 0.148028,
     "end_time": "2022-10-17T18:03:15.393496",
     "exception": false,
     "start_time": "2022-10-17T18:03:15.245468",
     "status": "completed"
    },
    "tags": []
   },
   "outputs": [
    {
     "name": "stdout",
     "output_type": "stream",
     "text": [
      "              precision    recall  f1-score   support\n",
      "\n",
      "           0       0.87      0.83      0.85        99\n",
      "           1       0.76      0.82      0.79        65\n",
      "\n",
      "    accuracy                           0.82       164\n",
      "   macro avg       0.81      0.82      0.82       164\n",
      "weighted avg       0.83      0.82      0.82       164\n",
      "\n"
     ]
    },
    {
     "data": {
      "text/plain": [
       "0.823170731707317"
      ]
     },
     "execution_count": 43,
     "metadata": {},
     "output_type": "execute_result"
    }
   ],
   "source": [
    "from sklearn.linear_model import LogisticRegression\n",
    "class1 = LogisticRegression(random_state=1)\n",
    "class1.fit(X_clean, ytrain)\n",
    "ypred1 = class1.predict(X_test_clean)\n",
    "print(classification_report(ytest, ypred1))\n",
    "accuracy_score(ypred1, ytest)"
   ]
  },
  {
   "cell_type": "markdown",
   "id": "88ca46a5",
   "metadata": {
    "papermill": {
     "duration": 0.04275,
     "end_time": "2022-10-17T18:03:15.506479",
     "exception": false,
     "start_time": "2022-10-17T18:03:15.463729",
     "status": "completed"
    },
    "tags": []
   },
   "source": [
    "**Naive Bayes**"
   ]
  },
  {
   "cell_type": "code",
   "execution_count": 44,
   "id": "8da2427e",
   "metadata": {
    "execution": {
     "iopub.execute_input": "2022-10-17T18:03:15.561715Z",
     "iopub.status.busy": "2022-10-17T18:03:15.561286Z",
     "iopub.status.idle": "2022-10-17T18:03:15.579169Z",
     "shell.execute_reply": "2022-10-17T18:03:15.577604Z"
    },
    "papermill": {
     "duration": 0.048818,
     "end_time": "2022-10-17T18:03:15.582050",
     "exception": false,
     "start_time": "2022-10-17T18:03:15.533232",
     "status": "completed"
    },
    "tags": []
   },
   "outputs": [
    {
     "name": "stdout",
     "output_type": "stream",
     "text": [
      "              precision    recall  f1-score   support\n",
      "\n",
      "           0       0.67      0.02      0.04        99\n",
      "           1       0.40      0.98      0.57        65\n",
      "\n",
      "    accuracy                           0.40       164\n",
      "   macro avg       0.53      0.50      0.30       164\n",
      "weighted avg       0.56      0.40      0.25       164\n",
      "\n"
     ]
    },
    {
     "data": {
      "text/plain": [
       "0.4024390243902439"
      ]
     },
     "execution_count": 44,
     "metadata": {},
     "output_type": "execute_result"
    }
   ],
   "source": [
    "from sklearn.naive_bayes import GaussianNB\n",
    "class6 = GaussianNB()\n",
    "class6.fit(X_clean, ytrain)\n",
    "ypred6 = class6.predict(X_test_clean)\n",
    "print(classification_report(ytest, ypred6))\n",
    "accuracy_score(ypred6, ytest)"
   ]
  },
  {
   "cell_type": "markdown",
   "id": "3e6b4f9f",
   "metadata": {
    "papermill": {
     "duration": 0.028794,
     "end_time": "2022-10-17T18:03:15.638144",
     "exception": false,
     "start_time": "2022-10-17T18:03:15.609350",
     "status": "completed"
    },
    "tags": []
   },
   "source": [
    "**SVM Model**"
   ]
  },
  {
   "cell_type": "code",
   "execution_count": 45,
   "id": "83ba4eae",
   "metadata": {
    "execution": {
     "iopub.execute_input": "2022-10-17T18:03:15.696532Z",
     "iopub.status.busy": "2022-10-17T18:03:15.695737Z",
     "iopub.status.idle": "2022-10-17T18:03:15.731484Z",
     "shell.execute_reply": "2022-10-17T18:03:15.729756Z"
    },
    "papermill": {
     "duration": 0.068695,
     "end_time": "2022-10-17T18:03:15.734244",
     "exception": false,
     "start_time": "2022-10-17T18:03:15.665549",
     "status": "completed"
    },
    "tags": []
   },
   "outputs": [
    {
     "name": "stdout",
     "output_type": "stream",
     "text": [
      "              precision    recall  f1-score   support\n",
      "\n",
      "           0       0.84      0.88      0.86        99\n",
      "           1       0.80      0.74      0.77        65\n",
      "\n",
      "    accuracy                           0.82       164\n",
      "   macro avg       0.82      0.81      0.81       164\n",
      "weighted avg       0.82      0.82      0.82       164\n",
      "\n"
     ]
    },
    {
     "data": {
      "text/plain": [
       "0.823170731707317"
      ]
     },
     "execution_count": 45,
     "metadata": {},
     "output_type": "execute_result"
    }
   ],
   "source": [
    "from sklearn.svm import SVC\n",
    "class2 = SVC(kernel = 'rbf', random_state=1)\n",
    "class2.fit(X_clean, ytrain)\n",
    "ypred2 = class2.predict(X_test_clean)\n",
    "print(classification_report(ytest, ypred2))\n",
    "accuracy_score(ypred2, ytest)"
   ]
  },
  {
   "cell_type": "markdown",
   "id": "e527cbe3",
   "metadata": {
    "papermill": {
     "duration": 0.027496,
     "end_time": "2022-10-17T18:03:15.789776",
     "exception": false,
     "start_time": "2022-10-17T18:03:15.762280",
     "status": "completed"
    },
    "tags": []
   },
   "source": [
    "**KNN Model**"
   ]
  },
  {
   "cell_type": "code",
   "execution_count": 46,
   "id": "6d55932a",
   "metadata": {
    "execution": {
     "iopub.execute_input": "2022-10-17T18:03:15.847520Z",
     "iopub.status.busy": "2022-10-17T18:03:15.847076Z",
     "iopub.status.idle": "2022-10-17T18:03:15.927388Z",
     "shell.execute_reply": "2022-10-17T18:03:15.926005Z"
    },
    "papermill": {
     "duration": 0.111993,
     "end_time": "2022-10-17T18:03:15.929997",
     "exception": false,
     "start_time": "2022-10-17T18:03:15.818004",
     "status": "completed"
    },
    "tags": []
   },
   "outputs": [
    {
     "name": "stdout",
     "output_type": "stream",
     "text": [
      "              precision    recall  f1-score   support\n",
      "\n",
      "           0       0.84      0.86      0.85        99\n",
      "           1       0.78      0.75      0.77        65\n",
      "\n",
      "    accuracy                           0.82       164\n",
      "   macro avg       0.81      0.81      0.81       164\n",
      "weighted avg       0.82      0.82      0.82       164\n",
      "\n"
     ]
    },
    {
     "data": {
      "text/plain": [
       "0.8170731707317073"
      ]
     },
     "execution_count": 46,
     "metadata": {},
     "output_type": "execute_result"
    }
   ],
   "source": [
    "from sklearn.neighbors import KNeighborsClassifier\n",
    "class3 = KNeighborsClassifier(n_neighbors=10)\n",
    "class3.fit(X_clean, ytrain)\n",
    "ypred3 = class3.predict(X_test_clean)\n",
    "print(classification_report(ytest, ypred3))\n",
    "accuracy_score(ypred3, ytest)"
   ]
  },
  {
   "cell_type": "markdown",
   "id": "351519d8",
   "metadata": {
    "papermill": {
     "duration": 0.028174,
     "end_time": "2022-10-17T18:03:15.986330",
     "exception": false,
     "start_time": "2022-10-17T18:03:15.958156",
     "status": "completed"
    },
    "tags": []
   },
   "source": [
    "**Decision Tree Model**"
   ]
  },
  {
   "cell_type": "code",
   "execution_count": 47,
   "id": "fe65fa81",
   "metadata": {
    "execution": {
     "iopub.execute_input": "2022-10-17T18:03:16.043841Z",
     "iopub.status.busy": "2022-10-17T18:03:16.043412Z",
     "iopub.status.idle": "2022-10-17T18:03:16.094127Z",
     "shell.execute_reply": "2022-10-17T18:03:16.092937Z"
    },
    "papermill": {
     "duration": 0.082498,
     "end_time": "2022-10-17T18:03:16.096756",
     "exception": false,
     "start_time": "2022-10-17T18:03:16.014258",
     "status": "completed"
    },
    "tags": []
   },
   "outputs": [
    {
     "name": "stdout",
     "output_type": "stream",
     "text": [
      "              precision    recall  f1-score   support\n",
      "\n",
      "           0       0.85      0.83      0.84        99\n",
      "           1       0.75      0.77      0.76        65\n",
      "\n",
      "    accuracy                           0.80       164\n",
      "   macro avg       0.80      0.80      0.80       164\n",
      "weighted avg       0.81      0.80      0.81       164\n",
      "\n"
     ]
    },
    {
     "data": {
      "text/plain": [
       "0.8048780487804879"
      ]
     },
     "execution_count": 47,
     "metadata": {},
     "output_type": "execute_result"
    }
   ],
   "source": [
    "from sklearn.tree import DecisionTreeClassifier\n",
    "class4 = DecisionTreeClassifier(max_depth=10, random_state=1)\n",
    "class4.fit(xtrain, ytrain)\n",
    "ypred4 = class4.predict(xtest)\n",
    "print(classification_report(ytest, ypred4))\n",
    "accuracy_score(ypred4, ytest)"
   ]
  },
  {
   "cell_type": "markdown",
   "id": "8d5fe774",
   "metadata": {
    "papermill": {
     "duration": 0.02795,
     "end_time": "2022-10-17T18:03:16.153458",
     "exception": false,
     "start_time": "2022-10-17T18:03:16.125508",
     "status": "completed"
    },
    "tags": []
   },
   "source": [
    "**Random Forest Model**"
   ]
  },
  {
   "cell_type": "code",
   "execution_count": 48,
   "id": "c14c90e7",
   "metadata": {
    "execution": {
     "iopub.execute_input": "2022-10-17T18:03:16.211250Z",
     "iopub.status.busy": "2022-10-17T18:03:16.210787Z",
     "iopub.status.idle": "2022-10-17T18:03:16.493497Z",
     "shell.execute_reply": "2022-10-17T18:03:16.491490Z"
    },
    "papermill": {
     "duration": 0.315406,
     "end_time": "2022-10-17T18:03:16.496657",
     "exception": false,
     "start_time": "2022-10-17T18:03:16.181251",
     "status": "completed"
    },
    "tags": []
   },
   "outputs": [
    {
     "name": "stdout",
     "output_type": "stream",
     "text": [
      "              precision    recall  f1-score   support\n",
      "\n",
      "           0       0.87      0.82      0.84        99\n",
      "           1       0.75      0.82      0.78        65\n",
      "\n",
      "    accuracy                           0.82       164\n",
      "   macro avg       0.81      0.82      0.81       164\n",
      "weighted avg       0.82      0.82      0.82       164\n",
      "\n"
     ]
    },
    {
     "data": {
      "text/plain": [
       "0.8170731707317073"
      ]
     },
     "execution_count": 48,
     "metadata": {},
     "output_type": "execute_result"
    }
   ],
   "source": [
    "from sklearn.ensemble import RandomForestClassifier\n",
    "class5 = RandomForestClassifier(n_estimators=100, random_state=1)\n",
    "class5.fit(xtrain, ytrain)\n",
    "ypred5 = class5.predict(xtest)\n",
    "print(classification_report(ytest, ypred5))\n",
    "accuracy_score(ypred5, ytest)"
   ]
  },
  {
   "cell_type": "markdown",
   "id": "6bf18796",
   "metadata": {
    "papermill": {
     "duration": 0.031297,
     "end_time": "2022-10-17T18:03:16.557443",
     "exception": false,
     "start_time": "2022-10-17T18:03:16.526146",
     "status": "completed"
    },
    "tags": []
   },
   "source": [
    "# Test Data preprocessing"
   ]
  },
  {
   "cell_type": "code",
   "execution_count": 49,
   "id": "813282be",
   "metadata": {
    "execution": {
     "iopub.execute_input": "2022-10-17T18:03:16.617536Z",
     "iopub.status.busy": "2022-10-17T18:03:16.616813Z",
     "iopub.status.idle": "2022-10-17T18:03:16.631319Z",
     "shell.execute_reply": "2022-10-17T18:03:16.630182Z"
    },
    "papermill": {
     "duration": 0.047438,
     "end_time": "2022-10-17T18:03:16.634039",
     "exception": false,
     "start_time": "2022-10-17T18:03:16.586601",
     "status": "completed"
    },
    "tags": []
   },
   "outputs": [],
   "source": [
    "test_data = pd.read_csv('../input/titanic/test.csv')"
   ]
  },
  {
   "cell_type": "code",
   "execution_count": 50,
   "id": "7eaeb2af",
   "metadata": {
    "execution": {
     "iopub.execute_input": "2022-10-17T18:03:16.693900Z",
     "iopub.status.busy": "2022-10-17T18:03:16.692716Z",
     "iopub.status.idle": "2022-10-17T18:03:16.701660Z",
     "shell.execute_reply": "2022-10-17T18:03:16.700421Z"
    },
    "papermill": {
     "duration": 0.041821,
     "end_time": "2022-10-17T18:03:16.704478",
     "exception": false,
     "start_time": "2022-10-17T18:03:16.662657",
     "status": "completed"
    },
    "tags": []
   },
   "outputs": [],
   "source": [
    "test_data['Initials'] = 0\n",
    "test_data['Initials'] = test_data['Name'].str.extract('([A-Za-z]+)\\.')"
   ]
  },
  {
   "cell_type": "code",
   "execution_count": 51,
   "id": "8d9064bf",
   "metadata": {
    "execution": {
     "iopub.execute_input": "2022-10-17T18:03:16.762523Z",
     "iopub.status.busy": "2022-10-17T18:03:16.762086Z",
     "iopub.status.idle": "2022-10-17T18:03:16.770493Z",
     "shell.execute_reply": "2022-10-17T18:03:16.768898Z"
    },
    "papermill": {
     "duration": 0.041393,
     "end_time": "2022-10-17T18:03:16.773525",
     "exception": false,
     "start_time": "2022-10-17T18:03:16.732132",
     "status": "completed"
    },
    "tags": []
   },
   "outputs": [],
   "source": [
    "test_data['Initials'].replace(['Col', 'Dona', 'Dr', 'Ms', 'Rev'], ['Other', 'Mr', 'Mr', 'Miss', 'Other'], inplace=True)"
   ]
  },
  {
   "cell_type": "code",
   "execution_count": 52,
   "id": "dbb4f209",
   "metadata": {
    "execution": {
     "iopub.execute_input": "2022-10-17T18:03:16.831344Z",
     "iopub.status.busy": "2022-10-17T18:03:16.830845Z",
     "iopub.status.idle": "2022-10-17T18:03:16.846892Z",
     "shell.execute_reply": "2022-10-17T18:03:16.845419Z"
    },
    "papermill": {
     "duration": 0.048448,
     "end_time": "2022-10-17T18:03:16.850053",
     "exception": false,
     "start_time": "2022-10-17T18:03:16.801605",
     "status": "completed"
    },
    "tags": []
   },
   "outputs": [],
   "source": [
    "# Filling nan values in test data using Train data\n",
    "test_data.loc[(test_data.Age.isnull()) & (test_data['Initials'] == 'Master'), 'Age'] = 5\n",
    "test_data.loc[(test_data.Age.isnull()) & (test_data['Initials'] == 'Miss'), 'Age'] = 22\n",
    "test_data.loc[(test_data.Age.isnull()) & (test_data['Initials'] == 'Mr'), 'Age'] = 33\n",
    "test_data.loc[(test_data.Age.isnull()) & (test_data['Initials'] == 'Mrs'), 'Age'] = 36\n",
    "test_data.loc[(test_data.Age.isnull()) & (test_data['Initials'] == 'Other'), 'Age'] = 46"
   ]
  },
  {
   "cell_type": "code",
   "execution_count": 53,
   "id": "a57c26aa",
   "metadata": {
    "execution": {
     "iopub.execute_input": "2022-10-17T18:03:16.908700Z",
     "iopub.status.busy": "2022-10-17T18:03:16.907664Z",
     "iopub.status.idle": "2022-10-17T18:03:16.921179Z",
     "shell.execute_reply": "2022-10-17T18:03:16.920260Z"
    },
    "papermill": {
     "duration": 0.045344,
     "end_time": "2022-10-17T18:03:16.923645",
     "exception": false,
     "start_time": "2022-10-17T18:03:16.878301",
     "status": "completed"
    },
    "tags": []
   },
   "outputs": [
    {
     "data": {
      "text/plain": [
       "count    417.000000\n",
       "mean      35.627188\n",
       "std       55.907576\n",
       "min        0.000000\n",
       "25%        7.895800\n",
       "50%       14.454200\n",
       "75%       31.500000\n",
       "max      512.329200\n",
       "Name: Fare, dtype: float64"
      ]
     },
     "execution_count": 53,
     "metadata": {},
     "output_type": "execute_result"
    }
   ],
   "source": [
    "test_data['Fare'].describe()"
   ]
  },
  {
   "cell_type": "code",
   "execution_count": 54,
   "id": "bb5fe44c",
   "metadata": {
    "execution": {
     "iopub.execute_input": "2022-10-17T18:03:16.984958Z",
     "iopub.status.busy": "2022-10-17T18:03:16.983840Z",
     "iopub.status.idle": "2022-10-17T18:03:16.992438Z",
     "shell.execute_reply": "2022-10-17T18:03:16.990703Z"
    },
    "papermill": {
     "duration": 0.042423,
     "end_time": "2022-10-17T18:03:16.995455",
     "exception": false,
     "start_time": "2022-10-17T18:03:16.953032",
     "status": "completed"
    },
    "tags": []
   },
   "outputs": [],
   "source": [
    "# Replacing 0 and nan value from Fare in test Data using mean\n",
    "test_data['Fare'].replace(0, 35.62, inplace=True)\n",
    "test_data['Fare'].replace(np.nan, 35.62, inplace=True)"
   ]
  },
  {
   "cell_type": "code",
   "execution_count": 55,
   "id": "20ed532e",
   "metadata": {
    "execution": {
     "iopub.execute_input": "2022-10-17T18:03:17.055396Z",
     "iopub.status.busy": "2022-10-17T18:03:17.053784Z",
     "iopub.status.idle": "2022-10-17T18:03:17.062143Z",
     "shell.execute_reply": "2022-10-17T18:03:17.060922Z"
    },
    "papermill": {
     "duration": 0.040911,
     "end_time": "2022-10-17T18:03:17.065111",
     "exception": false,
     "start_time": "2022-10-17T18:03:17.024200",
     "status": "completed"
    },
    "tags": []
   },
   "outputs": [],
   "source": [
    "test_data = test_data[feature_list]"
   ]
  },
  {
   "cell_type": "code",
   "execution_count": 56,
   "id": "a920adc9",
   "metadata": {
    "execution": {
     "iopub.execute_input": "2022-10-17T18:03:17.124685Z",
     "iopub.status.busy": "2022-10-17T18:03:17.124244Z",
     "iopub.status.idle": "2022-10-17T18:03:17.136902Z",
     "shell.execute_reply": "2022-10-17T18:03:17.135746Z"
    },
    "papermill": {
     "duration": 0.045638,
     "end_time": "2022-10-17T18:03:17.139677",
     "exception": false,
     "start_time": "2022-10-17T18:03:17.094039",
     "status": "completed"
    },
    "tags": []
   },
   "outputs": [],
   "source": [
    "# Categorial data conversion using One Hot Encoder\n",
    "test_data= pd.get_dummies(test_data)"
   ]
  },
  {
   "cell_type": "code",
   "execution_count": 57,
   "id": "fb37abec",
   "metadata": {
    "execution": {
     "iopub.execute_input": "2022-10-17T18:03:17.198422Z",
     "iopub.status.busy": "2022-10-17T18:03:17.198000Z",
     "iopub.status.idle": "2022-10-17T18:03:17.216224Z",
     "shell.execute_reply": "2022-10-17T18:03:17.215006Z"
    },
    "papermill": {
     "duration": 0.05055,
     "end_time": "2022-10-17T18:03:17.218446",
     "exception": false,
     "start_time": "2022-10-17T18:03:17.167896",
     "status": "completed"
    },
    "tags": []
   },
   "outputs": [
    {
     "data": {
      "text/html": [
       "<div>\n",
       "<style scoped>\n",
       "    .dataframe tbody tr th:only-of-type {\n",
       "        vertical-align: middle;\n",
       "    }\n",
       "\n",
       "    .dataframe tbody tr th {\n",
       "        vertical-align: top;\n",
       "    }\n",
       "\n",
       "    .dataframe thead th {\n",
       "        text-align: right;\n",
       "    }\n",
       "</style>\n",
       "<table border=\"1\" class=\"dataframe\">\n",
       "  <thead>\n",
       "    <tr style=\"text-align: right;\">\n",
       "      <th></th>\n",
       "      <th>Pclass</th>\n",
       "      <th>Age</th>\n",
       "      <th>SibSp</th>\n",
       "      <th>Parch</th>\n",
       "      <th>Fare</th>\n",
       "      <th>Sex_female</th>\n",
       "      <th>Sex_male</th>\n",
       "      <th>Embarked_C</th>\n",
       "      <th>Embarked_Q</th>\n",
       "      <th>Embarked_S</th>\n",
       "      <th>Initials_Master</th>\n",
       "      <th>Initials_Miss</th>\n",
       "      <th>Initials_Mr</th>\n",
       "      <th>Initials_Mrs</th>\n",
       "      <th>Initials_Other</th>\n",
       "    </tr>\n",
       "  </thead>\n",
       "  <tbody>\n",
       "    <tr>\n",
       "      <th>0</th>\n",
       "      <td>3</td>\n",
       "      <td>34.5</td>\n",
       "      <td>0</td>\n",
       "      <td>0</td>\n",
       "      <td>7.8292</td>\n",
       "      <td>0</td>\n",
       "      <td>1</td>\n",
       "      <td>0</td>\n",
       "      <td>1</td>\n",
       "      <td>0</td>\n",
       "      <td>0</td>\n",
       "      <td>0</td>\n",
       "      <td>1</td>\n",
       "      <td>0</td>\n",
       "      <td>0</td>\n",
       "    </tr>\n",
       "    <tr>\n",
       "      <th>1</th>\n",
       "      <td>3</td>\n",
       "      <td>47.0</td>\n",
       "      <td>1</td>\n",
       "      <td>0</td>\n",
       "      <td>7.0000</td>\n",
       "      <td>1</td>\n",
       "      <td>0</td>\n",
       "      <td>0</td>\n",
       "      <td>0</td>\n",
       "      <td>1</td>\n",
       "      <td>0</td>\n",
       "      <td>0</td>\n",
       "      <td>0</td>\n",
       "      <td>1</td>\n",
       "      <td>0</td>\n",
       "    </tr>\n",
       "    <tr>\n",
       "      <th>2</th>\n",
       "      <td>2</td>\n",
       "      <td>62.0</td>\n",
       "      <td>0</td>\n",
       "      <td>0</td>\n",
       "      <td>9.6875</td>\n",
       "      <td>0</td>\n",
       "      <td>1</td>\n",
       "      <td>0</td>\n",
       "      <td>1</td>\n",
       "      <td>0</td>\n",
       "      <td>0</td>\n",
       "      <td>0</td>\n",
       "      <td>1</td>\n",
       "      <td>0</td>\n",
       "      <td>0</td>\n",
       "    </tr>\n",
       "    <tr>\n",
       "      <th>3</th>\n",
       "      <td>3</td>\n",
       "      <td>27.0</td>\n",
       "      <td>0</td>\n",
       "      <td>0</td>\n",
       "      <td>8.6625</td>\n",
       "      <td>0</td>\n",
       "      <td>1</td>\n",
       "      <td>0</td>\n",
       "      <td>0</td>\n",
       "      <td>1</td>\n",
       "      <td>0</td>\n",
       "      <td>0</td>\n",
       "      <td>1</td>\n",
       "      <td>0</td>\n",
       "      <td>0</td>\n",
       "    </tr>\n",
       "    <tr>\n",
       "      <th>4</th>\n",
       "      <td>3</td>\n",
       "      <td>22.0</td>\n",
       "      <td>1</td>\n",
       "      <td>1</td>\n",
       "      <td>12.2875</td>\n",
       "      <td>1</td>\n",
       "      <td>0</td>\n",
       "      <td>0</td>\n",
       "      <td>0</td>\n",
       "      <td>1</td>\n",
       "      <td>0</td>\n",
       "      <td>0</td>\n",
       "      <td>0</td>\n",
       "      <td>1</td>\n",
       "      <td>0</td>\n",
       "    </tr>\n",
       "  </tbody>\n",
       "</table>\n",
       "</div>"
      ],
      "text/plain": [
       "   Pclass   Age  SibSp  Parch     Fare  Sex_female  Sex_male  Embarked_C  \\\n",
       "0       3  34.5      0      0   7.8292           0         1           0   \n",
       "1       3  47.0      1      0   7.0000           1         0           0   \n",
       "2       2  62.0      0      0   9.6875           0         1           0   \n",
       "3       3  27.0      0      0   8.6625           0         1           0   \n",
       "4       3  22.0      1      1  12.2875           1         0           0   \n",
       "\n",
       "   Embarked_Q  Embarked_S  Initials_Master  Initials_Miss  Initials_Mr  \\\n",
       "0           1           0                0              0            1   \n",
       "1           0           1                0              0            0   \n",
       "2           1           0                0              0            1   \n",
       "3           0           1                0              0            1   \n",
       "4           0           1                0              0            0   \n",
       "\n",
       "   Initials_Mrs  Initials_Other  \n",
       "0             0               0  \n",
       "1             1               0  \n",
       "2             0               0  \n",
       "3             0               0  \n",
       "4             1               0  "
      ]
     },
     "execution_count": 57,
     "metadata": {},
     "output_type": "execute_result"
    }
   ],
   "source": [
    "test_data.head()"
   ]
  },
  {
   "cell_type": "code",
   "execution_count": 58,
   "id": "b2feed42",
   "metadata": {
    "execution": {
     "iopub.execute_input": "2022-10-17T18:03:17.277312Z",
     "iopub.status.busy": "2022-10-17T18:03:17.276865Z",
     "iopub.status.idle": "2022-10-17T18:03:17.290469Z",
     "shell.execute_reply": "2022-10-17T18:03:17.289320Z"
    },
    "papermill": {
     "duration": 0.046324,
     "end_time": "2022-10-17T18:03:17.293269",
     "exception": false,
     "start_time": "2022-10-17T18:03:17.246945",
     "status": "completed"
    },
    "tags": []
   },
   "outputs": [],
   "source": [
    "# Feature Scaling on test data\n",
    "from sklearn.preprocessing import StandardScaler\n",
    "scaler1 = StandardScaler()\n",
    "X_clean1 = scaler1.fit_transform(X)\n",
    "X_test_clean1 = scaler.transform(test_data)"
   ]
  },
  {
   "cell_type": "markdown",
   "id": "aabfa83f",
   "metadata": {
    "papermill": {
     "duration": 0.027888,
     "end_time": "2022-10-17T18:03:17.350184",
     "exception": false,
     "start_time": "2022-10-17T18:03:17.322296",
     "status": "completed"
    },
    "tags": []
   },
   "source": [
    "# Final Model Deployement"
   ]
  },
  {
   "cell_type": "code",
   "execution_count": 59,
   "id": "4822140a",
   "metadata": {
    "execution": {
     "iopub.execute_input": "2022-10-17T18:03:17.407965Z",
     "iopub.status.busy": "2022-10-17T18:03:17.407514Z",
     "iopub.status.idle": "2022-10-17T18:03:17.435675Z",
     "shell.execute_reply": "2022-10-17T18:03:17.433970Z"
    },
    "papermill": {
     "duration": 0.062553,
     "end_time": "2022-10-17T18:03:17.440661",
     "exception": false,
     "start_time": "2022-10-17T18:03:17.378108",
     "status": "completed"
    },
    "tags": []
   },
   "outputs": [],
   "source": [
    "# Using Logistic Regression which gives best resul in Training-Testing Phase\n",
    "from sklearn.linear_model import LogisticRegression\n",
    "classf = LogisticRegression(random_state=1)\n",
    "classf.fit(X_clean1, y)\n",
    "ypredf = classf.predict(X_test_clean1)"
   ]
  },
  {
   "cell_type": "code",
   "execution_count": 60,
   "id": "ef31adeb",
   "metadata": {
    "execution": {
     "iopub.execute_input": "2022-10-17T18:03:17.571746Z",
     "iopub.status.busy": "2022-10-17T18:03:17.570143Z",
     "iopub.status.idle": "2022-10-17T18:03:17.578281Z",
     "shell.execute_reply": "2022-10-17T18:03:17.577197Z"
    },
    "papermill": {
     "duration": 0.065329,
     "end_time": "2022-10-17T18:03:17.580671",
     "exception": false,
     "start_time": "2022-10-17T18:03:17.515342",
     "status": "completed"
    },
    "tags": []
   },
   "outputs": [
    {
     "data": {
      "text/plain": [
       "(418,)"
      ]
     },
     "execution_count": 60,
     "metadata": {},
     "output_type": "execute_result"
    }
   ],
   "source": [
    "ypredf.shape"
   ]
  },
  {
   "cell_type": "code",
   "execution_count": 61,
   "id": "3f2a8c52",
   "metadata": {
    "execution": {
     "iopub.execute_input": "2022-10-17T18:03:17.640051Z",
     "iopub.status.busy": "2022-10-17T18:03:17.639309Z",
     "iopub.status.idle": "2022-10-17T18:03:17.648484Z",
     "shell.execute_reply": "2022-10-17T18:03:17.647473Z"
    },
    "papermill": {
     "duration": 0.041908,
     "end_time": "2022-10-17T18:03:17.651223",
     "exception": false,
     "start_time": "2022-10-17T18:03:17.609315",
     "status": "completed"
    },
    "tags": []
   },
   "outputs": [],
   "source": [
    "output = pd.DataFrame({'PassengerId': range(892, 1310),\n",
    "                       'Survived': ypredf})\n",
    "output.to_csv('submission.csv', index=False)"
   ]
  }
 ],
 "metadata": {
  "kernelspec": {
   "display_name": "Python 3",
   "language": "python",
   "name": "python3"
  },
  "language_info": {
   "codemirror_mode": {
    "name": "ipython",
    "version": 3
   },
   "file_extension": ".py",
   "mimetype": "text/x-python",
   "name": "python",
   "nbconvert_exporter": "python",
   "pygments_lexer": "ipython3",
   "version": "3.7.12"
  },
  "papermill": {
   "default_parameters": {},
   "duration": 26.639562,
   "end_time": "2022-10-17T18:03:18.706342",
   "environment_variables": {},
   "exception": null,
   "input_path": "__notebook__.ipynb",
   "output_path": "__notebook__.ipynb",
   "parameters": {},
   "start_time": "2022-10-17T18:02:52.066780",
   "version": "2.3.4"
  }
 },
 "nbformat": 4,
 "nbformat_minor": 5
}
